{
 "cells": [
  {
   "cell_type": "markdown",
   "id": "1fa457e7",
   "metadata": {},
   "source": [
    "# Lesson 9.05 Recurrent Neural Networks\n",
    "\n",
    "## Build a basic RNN to solve a NLP task"
   ]
  },
  {
   "cell_type": "markdown",
   "id": "5bb08493",
   "metadata": {},
   "source": [
    "### Load Data"
   ]
  },
  {
   "cell_type": "code",
   "execution_count": 1,
   "id": "54621eb1",
   "metadata": {},
   "outputs": [],
   "source": [
    "# Load cleaned data and split into training and test set\n",
    "import numpy as np\n",
    "import pandas as pd\n",
    "from sklearn.model_selection import train_test_split\n",
    "pd.set_option('display.max_colwidth', 1000)\n",
    "\n",
    "messages = pd.read_csv('spam.csv', encoding='latin-1')\n",
    "messages = messages.drop(labels = [\"Unnamed: 2\", \"Unnamed: 3\", \"Unnamed: 4\"], axis = 1)\n",
    "messages.columns = [\"label\", \"text\"]\n",
    "\n",
    "# if label is spam, set it to 1\n",
    "# if label is ham, set it to 0\n",
    "labels = np.where(messages['label']=='spam', 1, 0)\n",
    "\n",
    "X_train, X_test, y_train, y_test = train_test_split(messages['text'], labels, test_size=0.2)"
   ]
  },
  {
   "cell_type": "markdown",
   "id": "b058ab58",
   "metadata": {},
   "source": [
    "### Prepare Data"
   ]
  },
  {
   "cell_type": "code",
   "execution_count": 2,
   "id": "1191b5e8",
   "metadata": {},
   "outputs": [],
   "source": [
    "# Install keras\n",
    "# !pip install -U keras"
   ]
  },
  {
   "cell_type": "code",
   "execution_count": 3,
   "id": "b2c9efde",
   "metadata": {},
   "outputs": [],
   "source": [
    "# Import the tools we will need from keras\n",
    "\n",
    "# Tokenizer function will clean and tokenize data\n",
    "# By default, all punctuation is removed, turning the texts into space-separated sequences of words \n",
    "# (words maybe include the ' character). These sequences are then split into lists of tokens. \n",
    "# They will then be indexed or vectorized.\n",
    "# More info at https://www.tensorflow.org/api_docs/python/tf/keras/preprocessing/text/Tokenizer\n",
    "from keras.preprocessing.text import Tokenizer\n",
    "from keras.preprocessing.sequence import pad_sequences"
   ]
  },
  {
   "cell_type": "code",
   "execution_count": 4,
   "id": "61b81a49",
   "metadata": {},
   "outputs": [],
   "source": [
    "# Initialize and fit the tokenizer\n",
    "tokenizer = Tokenizer()\n",
    "\n",
    "# Train the tokenizer and use the tokenizer to convert sentences to sequences of numbers\n",
    "# where each number represents the index of the word stored in the tokenizer\n",
    "tokenizer.fit_on_texts(X_train)"
   ]
  },
  {
   "cell_type": "code",
   "execution_count": 5,
   "id": "c4f65e95",
   "metadata": {},
   "outputs": [],
   "source": [
    "# Use that tokenizer to transform (convert) the text message strings in training and test data\n",
    "# into a list of integers where each integer represents the index of that word\n",
    "X_train_seq = tokenizer.texts_to_sequences(X_train)\n",
    "X_test_seq = tokenizer.texts_to_sequences(X_test)"
   ]
  },
  {
   "cell_type": "code",
   "execution_count": 6,
   "id": "85f4da53",
   "metadata": {},
   "outputs": [
    {
     "data": {
      "text/plain": [
       "[2593,\n",
       " 8,\n",
       " 3895,\n",
       " 1032,\n",
       " 32,\n",
       " 1147,\n",
       " 52,\n",
       " 254,\n",
       " 31,\n",
       " 10,\n",
       " 24,\n",
       " 185,\n",
       " 5,\n",
       " 209,\n",
       " 37,\n",
       " 33,\n",
       " 3896,\n",
       " 602,\n",
       " 402,\n",
       " 17,\n",
       " 4,\n",
       " 3897,\n",
       " 1664]"
      ]
     },
     "execution_count": 6,
     "metadata": {},
     "output_type": "execute_result"
    }
   ],
   "source": [
    "# Q: What do these sequences look like?\n",
    "# Ans: sequence of numbers representing the words in each text msg\n",
    "# Ans: specifically this is the integer representation of the first text msg in data set\n",
    "# Ans: in other words, each integer is representing a word in the first text msg\n",
    "X_train_seq[0]"
   ]
  },
  {
   "cell_type": "code",
   "execution_count": 7,
   "id": "58c45e78",
   "metadata": {},
   "outputs": [],
   "source": [
    "# we need to standardize the sequence length since ML models expect the same number of features\n",
    "# for every training example that it sees\n",
    "\n",
    "# in our case, RNN model requires each sentence or each list of integers to be the same length\n",
    "\n",
    "# Pad the sequences so each sequence (vector) is the same length\n",
    "# Truncate anything that is longer than 50 down to 50 and pad anything that is shorter with zeros\n",
    "# Sequence length is one of the parameters that can be optimised via hyperparameter tuning\n",
    "X_train_seq_padded = pad_sequences(X_train_seq, 50)\n",
    "X_test_seq_padded = pad_sequences(X_test_seq, 50)"
   ]
  },
  {
   "cell_type": "code",
   "execution_count": 8,
   "id": "861775bb",
   "metadata": {},
   "outputs": [
    {
     "data": {
      "text/plain": [
       "array([   0,    0,    0,    0,    0,    0,    0,    0,    0,    0,    0,\n",
       "          0,    0,    0,    0,    0,    0,    0,    0,    0,    0,    0,\n",
       "          0,    0,    0,    0,    0, 2593,    8, 3895, 1032,   32, 1147,\n",
       "         52,  254,   31,   10,   24,  185,    5,  209,   37,   33, 3896,\n",
       "        602,  402,   17,    4, 3897, 1664])"
      ]
     },
     "execution_count": 8,
     "metadata": {},
     "output_type": "execute_result"
    }
   ],
   "source": [
    "# Display padded sequence for first text message which has included zeros to ensure sequence length = 50\n",
    "X_train_seq_padded[0]"
   ]
  },
  {
   "cell_type": "markdown",
   "id": "953eadc3",
   "metadata": {},
   "source": [
    "### Build Model"
   ]
  },
  {
   "cell_type": "code",
   "execution_count": 9,
   "id": "38935df2",
   "metadata": {},
   "outputs": [],
   "source": [
    "# Import the tools needed from keras\n",
    "\n",
    "# facilitate the computation of performance metrics\n",
    "import keras.backend as K\n",
    "\n",
    "# type of layers required\n",
    "\n",
    "# RNNs have a short-memory that allow them to store the information processed by the previous layers.\n",
    "# LSTMs are an extension of RNNs whose goal is to “prolong” or “extend” this internal memory\n",
    "# hence allowing them to remember previous words, previous sentences or any other value from the\n",
    "# beginning of a long sequence.\n",
    "from keras.layers import Dense, Embedding, LSTM\n",
    "\n",
    "# type of model required\n",
    "from keras.models import Sequential\n",
    "\n",
    "# define custom functions to calculate recall and precision\n",
    "def recall_m(y_true, y_pred):\n",
    "        # K.round: Element-wise rounding to the closest integer\n",
    "        # K.clip: Element-wise value clipping to min and max values specified\n",
    "        # K.epsilon: When there's a division operation taking place, it's often added to denominator to prevent\n",
    "            # a divide by zero error. Epsilon is small value that makes very little difference to the value of \n",
    "            # the denominator, but ensures that it isn't equal to exactly zero.\n",
    "        true_positives = K.sum(K.round(K.clip(y_true * y_pred, 0, 1)))\n",
    "        possible_positives = K.sum(K.round(K.clip(y_true, 0, 1)))\n",
    "        recall = true_positives / (possible_positives + K.epsilon())\n",
    "        return recall\n",
    "\n",
    "def precision_m(y_true, y_pred):\n",
    "        true_positives = K.sum(K.round(K.clip(y_true * y_pred, 0, 1)))\n",
    "        predicted_positives = K.sum(K.round(K.clip(y_pred, 0, 1)))\n",
    "        precision = true_positives / (predicted_positives + K.epsilon())\n",
    "        return precision"
   ]
  },
  {
   "cell_type": "code",
   "execution_count": 10,
   "id": "02908a11",
   "metadata": {},
   "outputs": [
    {
     "name": "stdout",
     "output_type": "stream",
     "text": [
      "Model: \"sequential\"\n",
      "_________________________________________________________________\n",
      "Layer (type)                 Output Shape              Param #   \n",
      "=================================================================\n",
      "embedding (Embedding)        (None, None, 32)          256192    \n",
      "_________________________________________________________________\n",
      "lstm (LSTM)                  (None, 32)                8320      \n",
      "_________________________________________________________________\n",
      "dense (Dense)                (None, 32)                1056      \n",
      "_________________________________________________________________\n",
      "dense_1 (Dense)              (None, 1)                 33        \n",
      "=================================================================\n",
      "Total params: 265,601\n",
      "Trainable params: 265,601\n",
      "Non-trainable params: 0\n",
      "_________________________________________________________________\n"
     ]
    }
   ],
   "source": [
    "# Create a RNN model\n",
    "model = Sequential()\n",
    "\n",
    "# Add Embedding layer which will take the text msg that is being passed in and create an embedding\n",
    "# or vector representation of that text msg\n",
    "\n",
    "# 'len(tokenizer.index_word)+1' refers to input dimensionality i.e. how many words are there in total\n",
    "# Need to add 1 to get full dimensionality since count starts from zero\n",
    "# Instructs embedding layer how many words to expect as input\n",
    "\n",
    "# '32' refers to the output dimensionality or in other words create embeddings of length=32\n",
    "# This is a parameter that you may consider tuning as part of model optimization\n",
    "model.add(Embedding(len(tokenizer.index_word)+1, 32))\n",
    "\n",
    "# LSTM (Long Short Term Memory) layer is a type of RNN layer used when the chain of input-chunks becomes longer \n",
    "# '32' refers to the outout dimensionality which equals to input dimensionality of current layer\n",
    "# Since it is a sequential model the output of previous layer will be passed as input to this LSTM layer\n",
    "model.add(LSTM(32))\n",
    "\n",
    "# fully connected layer i.e. every node is layer is connected to every node in the layer before\n",
    "model.add(Dense(32, activation='relu'))\n",
    "\n",
    "# Take 32 dimensions from the layer before and output one dimension\n",
    "# Condense everything down to make a prediction of either spam or ham \n",
    "model.add(Dense(1, activation='sigmoid'))\n",
    "model.summary()"
   ]
  },
  {
   "cell_type": "code",
   "execution_count": 11,
   "id": "54cf5b73",
   "metadata": {},
   "outputs": [],
   "source": [
    "# Compile the model\n",
    "model.compile(optimizer='adam',\n",
    "              loss='binary_crossentropy', # standard option for binary target variables\n",
    "              metrics=['accuracy', precision_m, recall_m]) # metrics to display"
   ]
  },
  {
   "cell_type": "code",
   "execution_count": 12,
   "id": "abe34bd2",
   "metadata": {},
   "outputs": [
    {
     "name": "stdout",
     "output_type": "stream",
     "text": [
      "Epoch 1/10\n",
      "140/140 [==============================] - 3s 18ms/step - loss: 0.2696 - accuracy: 0.9154 - precision_m: 0.5032 - recall_m: 0.4135 - val_loss: 0.0559 - val_accuracy: 0.9848 - val_precision_m: 0.9550 - val_recall_m: 0.9154\n",
      "Epoch 2/10\n",
      "140/140 [==============================] - 2s 13ms/step - loss: 0.0367 - accuracy: 0.9904 - precision_m: 0.9762 - recall_m: 0.9458 - val_loss: 0.0384 - val_accuracy: 0.9865 - val_precision_m: 0.9655 - val_recall_m: 0.9202\n",
      "Epoch 3/10\n",
      "140/140 [==============================] - 2s 13ms/step - loss: 0.0151 - accuracy: 0.9962 - precision_m: 0.9943 - recall_m: 0.9845 - val_loss: 0.0379 - val_accuracy: 0.9883 - val_precision_m: 0.9574 - val_recall_m: 0.9314\n",
      "Epoch 4/10\n",
      "140/140 [==============================] - 2s 13ms/step - loss: 0.0072 - accuracy: 0.9987 - precision_m: 0.9831 - recall_m: 0.9815 - val_loss: 0.0348 - val_accuracy: 0.9910 - val_precision_m: 0.9964 - val_recall_m: 0.9226\n",
      "Epoch 5/10\n",
      "140/140 [==============================] - 2s 14ms/step - loss: 0.0041 - accuracy: 0.9989 - precision_m: 0.9986 - recall_m: 0.9947 - val_loss: 0.0333 - val_accuracy: 0.9919 - val_precision_m: 0.9964 - val_recall_m: 0.9267\n",
      "Epoch 6/10\n",
      "140/140 [==============================] - 2s 13ms/step - loss: 0.0017 - accuracy: 0.9996 - precision_m: 0.9929 - recall_m: 0.9902 - val_loss: 0.0368 - val_accuracy: 0.9910 - val_precision_m: 0.9964 - val_recall_m: 0.9226\n",
      "Epoch 7/10\n",
      "140/140 [==============================] - 2s 13ms/step - loss: 0.0011 - accuracy: 0.9998 - precision_m: 0.9929 - recall_m: 0.9920 - val_loss: 0.0421 - val_accuracy: 0.9910 - val_precision_m: 0.9964 - val_recall_m: 0.9226\n",
      "Epoch 8/10\n",
      "140/140 [==============================] - 2s 13ms/step - loss: 4.3083e-04 - accuracy: 1.0000 - precision_m: 1.0000 - recall_m: 1.0000 - val_loss: 0.0412 - val_accuracy: 0.9910 - val_precision_m: 0.9907 - val_recall_m: 0.9267\n",
      "Epoch 9/10\n",
      "140/140 [==============================] - 2s 13ms/step - loss: 1.6757e-04 - accuracy: 1.0000 - precision_m: 1.0000 - recall_m: 1.0000 - val_loss: 0.0513 - val_accuracy: 0.9919 - val_precision_m: 1.0000 - val_recall_m: 0.9226\n",
      "Epoch 10/10\n",
      "140/140 [==============================] - 2s 13ms/step - loss: 6.2903e-05 - accuracy: 1.0000 - precision_m: 0.9857 - recall_m: 0.9857 - val_loss: 0.0501 - val_accuracy: 0.9919 - val_precision_m: 1.0000 - val_recall_m: 0.9226\n"
     ]
    }
   ],
   "source": [
    "# Fit the RNN model\n",
    "history = model.fit(X_train_seq_padded, y_train, \n",
    "                    batch_size=32, epochs=10, # batch_size = number of samples per epoch while epoch = number of loops\n",
    "                    validation_data=(X_test_seq_padded, y_test)) # apply model to unseen data i.e. test data"
   ]
  },
  {
   "cell_type": "code",
   "execution_count": 13,
   "id": "8aa7f8ff",
   "metadata": {},
   "outputs": [
    {
     "data": {
      "image/png": "[encoded data removed]",
      "text/plain": [
       "<Figure size 432x288 with 1 Axes>"
      ]
     },
     "metadata": {
      "needs_background": "light"
     },
     "output_type": "display_data"
    },
    {
     "data": {
      "image/png": "[encoded data removed]",
      "text/plain": [
       "<Figure size 432x288 with 1 Axes>"
      ]
     },
     "metadata": {
      "needs_background": "light"
     },
     "output_type": "display_data"
    },
    {
     "data": {
      "image/png": "[encoded data removed]",
      "text/plain": [
       "<Figure size 432x288 with 1 Axes>"
      ]
     },
     "metadata": {
      "needs_background": "light"
     },
     "output_type": "display_data"
    }
   ],
   "source": [
    "# Plot the evaluation metrics by each epoch for the model to see if we are over or underfitting\n",
    "import matplotlib.pyplot as plt\n",
    "\n",
    "for i in ['accuracy', 'precision_m', 'recall_m']:\n",
    "    acc = history.history[i]\n",
    "    val_acc = history.history['val_{}'.format(i)]\n",
    "    epochs = range(1, len(acc) + 1)\n",
    "\n",
    "    plt.figure()\n",
    "    plt.plot(epochs, acc, label='Training Accuracy')\n",
    "    plt.plot(epochs, val_acc, label='Validation Accuracy')\n",
    "    plt.title('Results for {}'.format(i))\n",
    "    plt.legend()\n",
    "    plt.show()\n",
    "    \n",
    "    # validation accuracy, precision and recal appears to be relatively consistent over time"
   ]
  }
 ],
 "metadata": {
  "kernelspec": {
   "display_name": "Python 3",
   "language": "python",
   "name": "python3"
  },
  "language_info": {
   "codemirror_mode": {
    "name": "ipython",
    "version": 3
   },
   "file_extension": ".py",
   "mimetype": "text/x-python",
   "name": "python",
   "nbconvert_exporter": "python",
   "pygments_lexer": "ipython3",
   "version": "3.8.8"
  }
 },
 "nbformat": 4,
 "nbformat_minor": 5
}
