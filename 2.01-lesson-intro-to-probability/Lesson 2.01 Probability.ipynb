{
 "cells": [
  {
   "cell_type": "markdown",
   "metadata": {},
   "source": [
    "# Lesson 2.01 Probability\n",
    "\n",
    "## Probability Problems\n",
    "\n",
    "We often interpret probability like frequency.\n",
    "- If I run an experiment over and over again and one event (call it $A$) occurs frequently, we might say that $P(A)$ is quite high.\n",
    "- If I run an experiment over and over again and one outcome $A$ occurs infrequently, we might say that the probability of $A$ is low.\n",
    "\n",
    "We can make this idea a bit more formal by assuming we can repeat an experiment a theoretically infinite number of times. Written out mathematically, this is:\n",
    "\n",
    "$$\n",
    "P(A) = \\lim_{n \\rightarrow \\infty} \\frac{\\text{number of times A occurs}}{n}\n",
    "$$\n",
    "\n",
    "If you're not familiar with limits, that's okay! \n",
    "- The idea is that while we can't actually run the experiment an infinite number of times, if we ran the experiment 1,000 times, then 1,000,000 times, then 1,000,000,000 times, as we get closer to an infinite number of experiments, can we get an understanding of what $P(A)$ is?\n",
    "- Limits are fundamentally important to *how* lots of machine learning and statistics work, but we're almost always able to do our work without getting into the weeds.\n",
    "\n",
    "In many cases, we can find probabilities exactly by hand... but that quickly gets complicated. Instead, let's *estimate* $P(A)$ by leveraging Python to run some large number of experiments and seeing how frequently $A$ occurs.\n",
    "\n",
    "For example, if I am rolling one die and my event $A$ is rolling a 6, I want to use Python to \"roll my die\" many times and count how frequently I roll a 6 compared to how many times I rolled my die.\n",
    "\n",
    "Mathematically, we are estimating the probability of $A$ as:\n",
    "\n",
    "$$\n",
    "P(A) \\approx \\frac{\\text{number of times A occurs}}{n}\n",
    "$$\n",
    "\n",
    "If we \"run our experiment\" for some large number of trials $n$, then our estimated probability should be pretty close to the true probability!"
   ]
  },
  {
   "cell_type": "code",
   "execution_count": 1,
   "metadata": {},
   "outputs": [],
   "source": [
    "import numpy as np"
   ]
  },
  {
   "cell_type": "markdown",
   "metadata": {},
   "source": [
    "### Problem 1: Suppose I roll one die. What is the probability of rolling an odd number?"
   ]
  },
  {
   "cell_type": "markdown",
   "metadata": {},
   "source": [
    "In this case, I want to estimate $P(A)$, where $A$ is rolling an odd number."
   ]
  },
  {
   "cell_type": "code",
   "execution_count": 2,
   "metadata": {},
   "outputs": [],
   "source": [
    "dice = [1, 2, 3, 4, 5, 6]"
   ]
  },
  {
   "cell_type": "code",
   "execution_count": 3,
   "metadata": {},
   "outputs": [
    {
     "data": {
      "text/plain": [
       "1"
      ]
     },
     "execution_count": 3,
     "metadata": {},
     "output_type": "execute_result"
    }
   ],
   "source": [
    "np.random.choice(dice) # randomly generate one integer between 1 and 6"
   ]
  },
  {
   "cell_type": "code",
   "execution_count": 88,
   "metadata": {},
   "outputs": [
    {
     "data": {
      "text/plain": [
       "6"
      ]
     },
     "execution_count": 88,
     "metadata": {},
     "output_type": "execute_result"
    }
   ],
   "source": [
    "np.random.randint(1,7) # another way to simulate a die roll"
   ]
  },
  {
   "cell_type": "code",
   "execution_count": 5,
   "metadata": {},
   "outputs": [],
   "source": [
    "np.random.seed(42) # set a seed so we can reproduce our results!"
   ]
  },
  {
   "cell_type": "code",
   "execution_count": 6,
   "metadata": {},
   "outputs": [
    {
     "data": {
      "text/plain": [
       "4"
      ]
     },
     "execution_count": 6,
     "metadata": {},
     "output_type": "execute_result"
    }
   ],
   "source": [
    "np.random.choice(dice) # randomly generate one integer between 1 and 6"
   ]
  },
  {
   "cell_type": "code",
   "execution_count": 7,
   "metadata": {},
   "outputs": [
    {
     "name": "stdout",
     "output_type": "stream",
     "text": [
      "0.498\n"
     ]
    }
   ],
   "source": [
    "count = 0                                # where we'll store our count\n",
    "for i in range(10000):                   # let's run our experiment (roll one die) 10,000 times\n",
    "    if np.random.choice(dice) % 2 != 0:  # if our dice value is not divisible by 2 (is odd)\n",
    "        count += 1                       # then add 1 to our count\n",
    "\n",
    "print(count / 10000)                     # print the number of times A occurs divided by n"
   ]
  },
  {
   "cell_type": "code",
   "execution_count": 8,
   "metadata": {},
   "outputs": [],
   "source": [
    "def odd_roll(n):                            # define a function with one argument, n \n",
    "    count = 0                               # where we'll store our count\n",
    "    for i in range(n):                      # let's run our experiment n times\n",
    "        if np.random.choice(dice) % 2 != 0: # if our dice value is not divisible by 2 (is odd)\n",
    "            count += 1                      # then add 1 to our count\n",
    "    return count / n                        # return the number of times A occurs divided by n"
   ]
  },
  {
   "cell_type": "code",
   "execution_count": 9,
   "metadata": {},
   "outputs": [
    {
     "data": {
      "text/plain": [
       "0.4981"
      ]
     },
     "execution_count": 9,
     "metadata": {},
     "output_type": "execute_result"
    }
   ],
   "source": [
    "odd_roll(10_000) # run our experiment 10,000 times"
   ]
  },
  {
   "cell_type": "code",
   "execution_count": 10,
   "metadata": {},
   "outputs": [
    {
     "data": {
      "text/plain": [
       "0.49956"
      ]
     },
     "execution_count": 10,
     "metadata": {},
     "output_type": "execute_result"
    }
   ],
   "source": [
    "odd_roll(100_000) # run our experiment 100,000 times"
   ]
  },
  {
   "cell_type": "code",
   "execution_count": 11,
   "metadata": {},
   "outputs": [
    {
     "data": {
      "text/plain": [
       "0.50076"
      ]
     },
     "execution_count": 11,
     "metadata": {},
     "output_type": "execute_result"
    }
   ],
   "source": [
    "odd_roll(1_000_000) # run our experiment 1,000,000 times"
   ]
  },
  {
   "cell_type": "markdown",
   "metadata": {},
   "source": [
    "### Problem 2: Suppose I roll two dice. What is the probability that their sum is an odd number?"
   ]
  },
  {
   "cell_type": "code",
   "execution_count": 12,
   "metadata": {},
   "outputs": [],
   "source": [
    "def odd_two_rolls(n):\n",
    "    \n",
    "    # where we'll store our count\n",
    "    count = 0\n",
    "    \n",
    "    # Run experiment n times.\n",
    "    for i in range(n): \n",
    "        \n",
    "        # Roll two dice; see if the sum is odd.\n",
    "        if (np.random.choice(dice) + np.random.choice(dice)) % 2 != 0:\n",
    "            \n",
    "            # If the sum is odd, add one to count.\n",
    "            count += 1\n",
    "            \n",
    "    # Return the number of times A occurs divided by n.\n",
    "    return count / n"
   ]
  },
  {
   "cell_type": "code",
   "execution_count": 13,
   "metadata": {},
   "outputs": [
    {
     "data": {
      "text/plain": [
       "0.4894"
      ]
     },
     "execution_count": 13,
     "metadata": {},
     "output_type": "execute_result"
    }
   ],
   "source": [
    "odd_two_rolls(10_000) # run our experiment 10,000 times"
   ]
  },
  {
   "cell_type": "markdown",
   "metadata": {},
   "source": [
    "### Problem 3: There are 12 red and 12 black balls. If you draw one ball, then a second ball without replacing the first, what is the probability that they are the same color?"
   ]
  },
  {
   "cell_type": "code",
   "execution_count": 14,
   "metadata": {},
   "outputs": [],
   "source": [
    "# Set up bucket of 12 red balls and 12 black balls.\n",
    "bag_of_balls = ['red', 'red', 'red', 'red', 'red', 'red', 'red', 'red', 'red', 'red', 'red', 'red',\n",
    "                'black', 'black', 'black', 'black', 'black', 'black', 'black', 'black', 'black', 'black', 'black', 'black']"
   ]
  },
  {
   "cell_type": "code",
   "execution_count": 15,
   "metadata": {},
   "outputs": [],
   "source": [
    "def same_color(n):\n",
    "    \n",
    "    # Set up counter to see how many successes we get.\n",
    "    count = 0\n",
    "    \n",
    "    # Run experiment n times.\n",
    "    for i in range(n):\n",
    "        \n",
    "        # Pull two balls from bucket *without* replacement.\n",
    "        draws = np.random.choice(bag_of_balls, size=2, replace = False)\n",
    "        \n",
    "        # Check to see if the two chosen balls are the same.\n",
    "        if draws[0] == draws[1]:\n",
    "            count += 1\n",
    "            \n",
    "    # Evaluate probability.\n",
    "    return count / n"
   ]
  },
  {
   "cell_type": "code",
   "execution_count": 16,
   "metadata": {},
   "outputs": [
    {
     "data": {
      "text/plain": [
       "0.4795"
      ]
     },
     "execution_count": 16,
     "metadata": {},
     "output_type": "execute_result"
    }
   ],
   "source": [
    "same_color(10_000)"
   ]
  },
  {
   "cell_type": "markdown",
   "metadata": {},
   "source": [
    "### Problem 4: Suppose you roll three dice. What is the probability that the three dice are rolled in increasing order?"
   ]
  },
  {
   "cell_type": "code",
   "execution_count": 17,
   "metadata": {},
   "outputs": [
    {
     "data": {
      "text/plain": [
       "[1, 2, 3, 4, 5, 6]"
      ]
     },
     "execution_count": 17,
     "metadata": {},
     "output_type": "execute_result"
    }
   ],
   "source": [
    "# What is dice again?\n",
    "dice"
   ]
  },
  {
   "cell_type": "code",
   "execution_count": 18,
   "metadata": {},
   "outputs": [],
   "source": [
    "def three_dice(n):\n",
    "    \n",
    "    # Set up counter to see how many successes we get.\n",
    "    count = 0\n",
    "    \n",
    "    # Run experiment n times.\n",
    "    for i in range(n):\n",
    "        \n",
    "        # Roll first die.\n",
    "        roll_1 = np.random.choice(dice)\n",
    "        \n",
    "        # Roll second die.\n",
    "        roll_2 = np.random.choice(dice)\n",
    "        \n",
    "        # Roll third die.\n",
    "        roll_3 = np.random.choice(dice)\n",
    "        \n",
    "        # Check to see if the rolls are in increasing order.\n",
    "        if roll_1 < roll_2 and roll_2 < roll_3:\n",
    "            count += 1\n",
    "    \n",
    "    # Return probability.\n",
    "    return count / n"
   ]
  },
  {
   "cell_type": "code",
   "execution_count": 19,
   "metadata": {},
   "outputs": [
    {
     "data": {
      "text/plain": [
       "0.092256"
      ]
     },
     "execution_count": 19,
     "metadata": {},
     "output_type": "execute_result"
    }
   ],
   "source": [
    "three_dice(1000000)"
   ]
  }
 ],
 "metadata": {
  "kernelspec": {
   "display_name": "Python 3",
   "language": "python",
   "name": "python3"
  },
  "language_info": {
   "codemirror_mode": {
    "name": "ipython",
    "version": 3
   },
   "file_extension": ".py",
   "mimetype": "text/x-python",
   "name": "python",
   "nbconvert_exporter": "python",
   "pygments_lexer": "ipython3",
   "version": "3.8.8"
  }
 },
 "nbformat": 4,
 "nbformat_minor": 2
}
