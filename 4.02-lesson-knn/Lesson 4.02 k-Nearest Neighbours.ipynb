{
 "cells": [
  {
   "cell_type": "markdown",
   "id": "4279efd8",
   "metadata": {
    "collapsed": true
   },
   "source": [
    "# Lesson 4.02 - k-Nearest Neighbours\n",
    "1. KNN is a supervised classifier that memorises observations from within a test set to predict classification labels for new, unlabeled observations\n",
    "2. KNN makes observations based on how similar training observations are to the new, incoming observations"
   ]
  },
  {
   "cell_type": "code",
   "execution_count": 1,
   "id": "0f4ac8e8",
   "metadata": {},
   "outputs": [],
   "source": [
    "import numpy as np\n",
    "import pandas as pd\n",
    "import scipy\n",
    "import sklearn\n",
    "\n",
    "from sklearn.model_selection import train_test_split, cross_val_score\n",
    "from sklearn.preprocessing import StandardScaler\n",
    "from sklearn.model_selection import train_test_split\n",
    "\n",
    "from sklearn.neighbors import KNeighborsClassifier"
   ]
  },
  {
   "cell_type": "markdown",
   "id": "a81e5276",
   "metadata": {
    "collapsed": true
   },
   "source": [
    "## Importing your data"
   ]
  },
  {
   "cell_type": "code",
   "execution_count": 2,
   "id": "c57cbb32",
   "metadata": {},
   "outputs": [
    {
     "data": {
      "text/html": [
       "<div>\n",
       "<style scoped>\n",
       "    .dataframe tbody tr th:only-of-type {\n",
       "        vertical-align: middle;\n",
       "    }\n",
       "\n",
       "    .dataframe tbody tr th {\n",
       "        vertical-align: top;\n",
       "    }\n",
       "\n",
       "    .dataframe thead th {\n",
       "        text-align: right;\n",
       "    }\n",
       "</style>\n",
       "<table border=\"1\" class=\"dataframe\">\n",
       "  <thead>\n",
       "    <tr style=\"text-align: right;\">\n",
       "      <th></th>\n",
       "      <th>car_names</th>\n",
       "      <th>mpg</th>\n",
       "      <th>cyl</th>\n",
       "      <th>disp</th>\n",
       "      <th>hp</th>\n",
       "      <th>drat</th>\n",
       "      <th>wt</th>\n",
       "      <th>qsec</th>\n",
       "      <th>vs</th>\n",
       "      <th>am</th>\n",
       "      <th>gear</th>\n",
       "      <th>carb</th>\n",
       "    </tr>\n",
       "  </thead>\n",
       "  <tbody>\n",
       "    <tr>\n",
       "      <th>0</th>\n",
       "      <td>Mazda RX4</td>\n",
       "      <td>21.0</td>\n",
       "      <td>6</td>\n",
       "      <td>160.0</td>\n",
       "      <td>110</td>\n",
       "      <td>3.90</td>\n",
       "      <td>2.620</td>\n",
       "      <td>16.46</td>\n",
       "      <td>0</td>\n",
       "      <td>1</td>\n",
       "      <td>4</td>\n",
       "      <td>4</td>\n",
       "    </tr>\n",
       "    <tr>\n",
       "      <th>1</th>\n",
       "      <td>Mazda RX4 Wag</td>\n",
       "      <td>21.0</td>\n",
       "      <td>6</td>\n",
       "      <td>160.0</td>\n",
       "      <td>110</td>\n",
       "      <td>3.90</td>\n",
       "      <td>2.875</td>\n",
       "      <td>17.02</td>\n",
       "      <td>0</td>\n",
       "      <td>1</td>\n",
       "      <td>4</td>\n",
       "      <td>4</td>\n",
       "    </tr>\n",
       "    <tr>\n",
       "      <th>2</th>\n",
       "      <td>Datsun 710</td>\n",
       "      <td>22.8</td>\n",
       "      <td>4</td>\n",
       "      <td>108.0</td>\n",
       "      <td>93</td>\n",
       "      <td>3.85</td>\n",
       "      <td>2.320</td>\n",
       "      <td>18.61</td>\n",
       "      <td>1</td>\n",
       "      <td>1</td>\n",
       "      <td>4</td>\n",
       "      <td>1</td>\n",
       "    </tr>\n",
       "    <tr>\n",
       "      <th>3</th>\n",
       "      <td>Hornet 4 Drive</td>\n",
       "      <td>21.4</td>\n",
       "      <td>6</td>\n",
       "      <td>258.0</td>\n",
       "      <td>110</td>\n",
       "      <td>3.08</td>\n",
       "      <td>3.215</td>\n",
       "      <td>19.44</td>\n",
       "      <td>1</td>\n",
       "      <td>0</td>\n",
       "      <td>3</td>\n",
       "      <td>1</td>\n",
       "    </tr>\n",
       "    <tr>\n",
       "      <th>4</th>\n",
       "      <td>Hornet Sportabout</td>\n",
       "      <td>18.7</td>\n",
       "      <td>8</td>\n",
       "      <td>360.0</td>\n",
       "      <td>175</td>\n",
       "      <td>3.15</td>\n",
       "      <td>3.440</td>\n",
       "      <td>17.02</td>\n",
       "      <td>0</td>\n",
       "      <td>0</td>\n",
       "      <td>3</td>\n",
       "      <td>2</td>\n",
       "    </tr>\n",
       "  </tbody>\n",
       "</table>\n",
       "</div>"
      ],
      "text/plain": [
       "           car_names   mpg  cyl   disp   hp  drat     wt   qsec  vs  am  gear  \\\n",
       "0          Mazda RX4  21.0    6  160.0  110  3.90  2.620  16.46   0   1     4   \n",
       "1      Mazda RX4 Wag  21.0    6  160.0  110  3.90  2.875  17.02   0   1     4   \n",
       "2         Datsun 710  22.8    4  108.0   93  3.85  2.320  18.61   1   1     4   \n",
       "3     Hornet 4 Drive  21.4    6  258.0  110  3.08  3.215  19.44   1   0     3   \n",
       "4  Hornet Sportabout  18.7    8  360.0  175  3.15  3.440  17.02   0   0     3   \n",
       "\n",
       "   carb  \n",
       "0     4  \n",
       "1     4  \n",
       "2     1  \n",
       "3     1  \n",
       "4     2  "
      ]
     },
     "execution_count": 2,
     "metadata": {},
     "output_type": "execute_result"
    }
   ],
   "source": [
    "# load data set\n",
    "address = 'data/mtcars.csv'\n",
    "\n",
    "cars = pd.read_csv(address)\n",
    "cars.columns = ['car_names','mpg','cyl','disp', 'hp', 'drat', 'wt', 'qsec', 'vs', 'am', 'gear', 'carb']\n",
    "\n",
    "# determine X and y variables to use for model\n",
    "X = cars[['mpg', 'disp', 'hp', 'wt']].values\n",
    "y = cars['am'].values\n",
    "\n",
    "# preview data set\n",
    "cars.head()"
   ]
  },
  {
   "cell_type": "markdown",
   "id": "3b207030",
   "metadata": {},
   "source": [
    "## Train/Test split & Scale Data\n"
   ]
  },
  {
   "cell_type": "code",
   "execution_count": 3,
   "id": "adb20193",
   "metadata": {},
   "outputs": [],
   "source": [
    "# apply train-test split on data set to train model and test performance on unseen data\n",
    "X_train, X_test, y_train, y_test =train_test_split(X, y, test_size=.2, random_state=17)\n",
    "\n",
    "# apply scaling to X-variables to bring values to a similar scale for better model performance\n",
    "ss = StandardScaler()\n",
    "X_train_sc = ss.fit_transform(X_train)\n",
    "X_test_sc = ss.transform(X_test)"
   ]
  },
  {
   "cell_type": "markdown",
   "id": "47ae8821",
   "metadata": {},
   "source": [
    "## Instantiate KNN\n",
    "\n",
    "For the `KNeighborsClassifier`, there a few important parameters to keep in mind:\n",
    "\n",
    "1. `n_neighbors`: this is the \"K\" in KNN. The best K will change from problem to problem, but the default is 5.\n",
    "2. `weights`: The neighbors can all have an equal vote (`uniform`), or the closer points can have a higher weighted vote (`distance`).\n",
    "\n",
    "In the cell below, instantiate a `knn` model using the default parameters."
   ]
  },
  {
   "cell_type": "code",
   "execution_count": 4,
   "id": "d7d2478f",
   "metadata": {
    "scrolled": true
   },
   "outputs": [],
   "source": [
    "# Instantiate a class instance of KNN class with an initial parameter value\n",
    "knn = KNeighborsClassifier(n_neighbors=3)"
   ]
  },
  {
   "cell_type": "markdown",
   "id": "3b1a129e",
   "metadata": {},
   "source": [
    "## Cross Validation\n",
    "In the cell below, use `cross_val_score` to see what accuracy we can expect from our KNN model."
   ]
  },
  {
   "cell_type": "code",
   "execution_count": 5,
   "id": "8e3fe63f",
   "metadata": {},
   "outputs": [
    {
     "data": {
      "text/plain": [
       "0.9417582417582417"
      ]
     },
     "execution_count": 5,
     "metadata": {},
     "output_type": "execute_result"
    }
   ],
   "source": [
    "# Derive the cross-val score for training set\n",
    "cross_val_score(knn, X_train_sc, y_train, cv=5).mean()"
   ]
  },
  {
   "cell_type": "markdown",
   "id": "c953d7fb",
   "metadata": {},
   "source": [
    "## Model fitting and evaluation\n",
    "Now that we know what we can expect from our KNN model, let's \n",
    "1. fit the model to `X_train_scaled`, `y_train`\n",
    "2. score it on `X_test_scaled`, `y_test`"
   ]
  },
  {
   "cell_type": "code",
   "execution_count": 6,
   "id": "dad98c73",
   "metadata": {},
   "outputs": [
    {
     "data": {
      "text/plain": [
       "0.9552238805970149"
      ]
     },
     "execution_count": 6,
     "metadata": {},
     "output_type": "execute_result"
    }
   ],
   "source": [
    "knn.fit(X_train_sc, y_train)\n",
    "knn.score(X_train_sc, y_train)"
   ]
  },
  {
   "cell_type": "code",
   "execution_count": 7,
   "id": "2dd0ec9d",
   "metadata": {},
   "outputs": [
    {
     "data": {
      "text/plain": [
       "0.7647058823529411"
      ]
     },
     "execution_count": 7,
     "metadata": {},
     "output_type": "execute_result"
    }
   ],
   "source": [
    "knn.score(X_test_sc, y_test)"
   ]
  },
  {
   "cell_type": "code",
   "execution_count": 8,
   "id": "c680734a",
   "metadata": {},
   "outputs": [
    {
     "data": {
      "text/plain": [
       "0.9"
      ]
     },
     "execution_count": 8,
     "metadata": {},
     "output_type": "execute_result"
    }
   ],
   "source": [
    "# We apply the cross_val score on test set to see if it can be use as the final eval metric\n",
    "# The reason being knn train score = 0.95 and knn test score = 0.76 specifically imply model overfitting\n",
    "\n",
    "# In view of the above, we print out the cross_val score for test data and compare it to train data\n",
    "# In this case the knn test cross_val score of 0.9 is very close to knn train cross_val_score of 0.94.\n",
    "# As such we may consider presenting the cross_val scores of train and test data as final eval metrics\n",
    "cross_val_score(knn, X_test_sc, y_test, cv=5).mean()"
   ]
  }
 ],
 "metadata": {
  "kernelspec": {
   "display_name": "Python 3",
   "language": "python",
   "name": "python3"
  },
  "language_info": {
   "codemirror_mode": {
    "name": "ipython",
    "version": 3
   },
   "file_extension": ".py",
   "mimetype": "text/x-python",
   "name": "python",
   "nbconvert_exporter": "python",
   "pygments_lexer": "ipython3",
   "version": "3.8.8"
  }
 },
 "nbformat": 4,
 "nbformat_minor": 5
}
