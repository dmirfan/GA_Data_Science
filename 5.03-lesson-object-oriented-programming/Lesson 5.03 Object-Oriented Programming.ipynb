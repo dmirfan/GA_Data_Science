{
 "cells": [
  {
   "cell_type": "markdown",
   "id": "cd474d8f",
   "metadata": {},
   "source": [
    "# Lesson 5.03 Object-Oriented Programming\n",
    "\n",
    "### What is Object-Oriented Programming `(OOP)`?\n",
    "    \n",
    "- OOP involves bundling together variables and functions into \"classes\" -- aka creating your own data types.\n",
    "- Python is fundamentally object-oriented -- everything in Python is an object.\n",
    "\n",
    "### Why `(OOP)`?\n",
    "\n",
    "You're actually very familiar with some OOP ideas. Instantiations of `DataFrame`, `LinearRegression`, and `StandardScaler` have all followed the traditional OOP pattern. If you understand how to manipulate those objects, you know the basics of OOP!\n",
    "\n",
    "But, we don't know how to **make our own templates for objects** (called \"classes\") yet. That's what we're going to explore today.\n",
    "\n",
    "In data science, we don't make our own classes very often. But it's absolutely imperative for data scientists to be comfortable with the idea, and to recognize when making a class is a good idea. **If data science is a cross between statistics and computer science, this lesson falls more on the computer science side.** After today's lesson, a lot of the magic surrounding what we've been doing up until now should \"click\"."
   ]
  },
  {
   "cell_type": "markdown",
   "id": "d852669b",
   "metadata": {},
   "source": [
    "## Let's try to build a `BankAccount` class for a bank using `OOP`.\n",
    "\n",
    "<p style=\"color:brown; font-weight:bold\">The class should meet all the following specifications. Different students may interpret each of these specifications differently. Use your best judgment to determine what you think would be most useful to potential banking software! I have graded the specifications from easy to hard. But none of them are extremely difficult. Try to make it to the end!</p>\n",
    "\n",
    "<br/>\n",
    "\n",
    "**Difficuly Mode: Easy**\n",
    "* Each account should have a `name` (e.g. `\"Tim's Checking\"`)\n",
    "* Each account should have an `interest_rate` (e.g. `0.03`)\n",
    "* Each account should have a starting `balance` of 0\n",
    "* The class should have `.withdraw()` and `.deposit()` methods.\n",
    "* Add a `.view_balance()` method that prints the balance in a user-friendly way. Maybe:\n",
    "    - `Tim's Checking has $300 remaining.`\n",
    "\n",
    "**Difficuly Mode: Medium**\n",
    "* The class should have an `.accrue_interest()` method that increases the `balance` with respect to its interest rate.\n",
    "* Add checks to make sure the user can't withdraw to below \\$0.\n",
    "* If the user accidentally attempts to overdraw, incur a \\$35 fee to their account (this may cause the balance to go negative, which is allowed in this one case).\n",
    "* If the user's balance is negative, don't allow them to accrue interest!\n",
    "    \n",
    "**Difficuly Mode: Hard**\n",
    "* If fraud is detected, the bank wants the ability to freeze the account. Add `.freeze()` and `.unfreeze()` methods. While an account is frozen, do not allow depositing or withdrawing.\n",
    "* The user can only make 10 withdrawals a year. Create an instance variable that keeps track of these withdrawals, and throws an error if a user tries to make an 11th withdrawal.\n",
    "* Create a `.year_end()` method which implies the banking year has ended. What _two_ things above happen at the end of a year?\n",
    "\n",
    "**Difficuly Mode: Very Hard *The things that you'll need to look up online in order to learn to do:***\n",
    "* Create a **class variable** (different from an instance variable!) that keeps track of the total number of bank accounts created.\n",
    "* Temporarily freeze a bank account at end of year if a user deposits more than $1 Million in one instance during the year.\n",
    "* Some of the methods we've created should not be allowed to be called by the user (e.g., the user shouldn't be allowed to `.accrue_interest()` whenever they want!). Turn these methods into _private methods_.\n",
    "    - Note: Python can't actually make private methods, but it can do something close."
   ]
  },
  {
   "cell_type": "code",
   "execution_count": 1,
   "id": "bb2a834b",
   "metadata": {},
   "outputs": [],
   "source": [
    "# Easy\n",
    "class BankAccount:\n",
    "    def __init__(self, name, interest_rate):\n",
    "        self.name = name\n",
    "        self.interest_rate = interest_rate\n",
    "        self.balance = 0\n",
    "    \n",
    "    def withdraw(self, amount):\n",
    "        self.balance -= amount\n",
    "        \n",
    "    def deposit(self, amount):\n",
    "        self.balance += amount\n",
    "        \n",
    "    def view_balance(self):\n",
    "        print(self.name + \" has $%.2f remaining.\" % self.balance)"
   ]
  },
  {
   "cell_type": "code",
   "execution_count": 2,
   "id": "e7735118",
   "metadata": {},
   "outputs": [
    {
     "name": "stdout",
     "output_type": "stream",
     "text": [
      "Timothy Chan has $100.00 remaining.\n"
     ]
    }
   ],
   "source": [
    "my_acc = BankAccount(\"Timothy Chan\", 0.03)\n",
    "my_acc.deposit(300)\n",
    "my_acc.withdraw(200)\n",
    "my_acc.view_balance()"
   ]
  },
  {
   "cell_type": "code",
   "execution_count": 3,
   "id": "74ac1638",
   "metadata": {},
   "outputs": [],
   "source": [
    "# Medium\n",
    "class BankAccount:\n",
    "    def __init__(self, name, interest_rate):\n",
    "        self.name = name\n",
    "        self.interest_rate = interest_rate\n",
    "        self.balance = 0\n",
    "    \n",
    "    def withdraw(self, amount):\n",
    "        if self.balance - amount < 0:\n",
    "            print(\"ERROR! Insufficient funds. Deducting $35 fee.\")\n",
    "            self.balance -= 35\n",
    "        else:\n",
    "            self.balance -= amount\n",
    "        \n",
    "    def deposit(self, amount):\n",
    "        self.balance += amount\n",
    "        \n",
    "    def accrue_interest(self):\n",
    "        if self.balance > 0:\n",
    "            self.balance *= (1 + self.interest_rate)\n",
    "        \n",
    "    def view_balance(self):\n",
    "        print(self.name + \" has $%.2f remaining.\" % self.balance)"
   ]
  },
  {
   "cell_type": "code",
   "execution_count": 4,
   "id": "45215f91",
   "metadata": {},
   "outputs": [
    {
     "name": "stdout",
     "output_type": "stream",
     "text": [
      "Timothy Chan has $103.00 remaining.\n"
     ]
    }
   ],
   "source": [
    "my_acc = BankAccount(\"Timothy Chan\", 0.03)\n",
    "my_acc.deposit(300)\n",
    "my_acc.withdraw(200)\n",
    "my_acc.accrue_interest()\n",
    "my_acc.view_balance()"
   ]
  },
  {
   "cell_type": "code",
   "execution_count": 5,
   "id": "e7ca2689",
   "metadata": {},
   "outputs": [],
   "source": [
    "# Hard\n",
    "class BankAccount:\n",
    "    def __init__(self, name, interest_rate):\n",
    "        self.name = name\n",
    "        self.interest_rate = interest_rate\n",
    "        self.balance = 0\n",
    "        self.frozen = False\n",
    "        self.withdrawals_left = 10\n",
    "    \n",
    "    def withdraw(self, amount):\n",
    "        if not self.frozen:\n",
    "            if self.balance - amount < 0:\n",
    "                print(\"ERROR! Insufficient funds. Deducting $35 fee.\")\n",
    "                self.balance -= 35\n",
    "            else:\n",
    "                if self.withdrawals > 0:\n",
    "                    self.balance -= amount\n",
    "                    self.withdrawals -= 1\n",
    "                else:\n",
    "                    print(\"No withdrawals remaining!\")\n",
    "        else:\n",
    "            print(\"Cannot withdraw - account is frozen!\")\n",
    "        \n",
    "    def deposit(self, amount):\n",
    "        if not self.frozen:\n",
    "            self.balance += amount\n",
    "        else:\n",
    "            print(\"Cannot deposit - account is frozen!\")\n",
    "        \n",
    "    def accrue_interest(self):\n",
    "        if self.balance > 0:\n",
    "            self.balance *= (1 + self.interest_rate)\n",
    "        \n",
    "    def view_balance(self):\n",
    "        print(self.name + \" has $%.2f remaining.\" % self.balance)\n",
    "        \n",
    "    def freeze(self):\n",
    "        self.frozen = True\n",
    "    \n",
    "    def unfreeze(self):\n",
    "        self.frozen = False\n",
    "    \n",
    "    # There is only 1 underscore prefixed for _year_end method so it is not a private method\n",
    "    def _year_end(self):\n",
    "        self.withdrawals_left = 10\n",
    "        self.accrue_interest()"
   ]
  },
  {
   "cell_type": "code",
   "execution_count": 6,
   "id": "2e3524cb",
   "metadata": {},
   "outputs": [],
   "source": [
    "# Very Hard\n",
    "class BankAccount:\n",
    "    n_accounts = 0\n",
    "    \n",
    "    def __init__(self, name, interest_rate):\n",
    "        self.name = name\n",
    "        self.interest_rate = interest_rate\n",
    "        self.balance = 0\n",
    "        self.frozen = False\n",
    "        self.withdrawals_left = 10\n",
    "        BankAccount.n_accounts += 1\n",
    "    \n",
    "    def withdraw(self, amount):\n",
    "        if not self.frozen:\n",
    "            if self.balance - amount < 0:\n",
    "                print(\"ERROR! Insufficient funds. Deducting $35 fee.\")\n",
    "                self.balance -= 35\n",
    "            else:\n",
    "                if self.withdrawals > 0:\n",
    "                    self.balance -= amount\n",
    "                    self.withdrawals -= 1\n",
    "                else:\n",
    "                    print(\"No withdrawals remaining!\")\n",
    "        else:\n",
    "            print(\"Cannot withdraw - account is frozen!\")\n",
    "        \n",
    "    def deposit(self, amount):\n",
    "        if not self.frozen:\n",
    "            self.balance += amount\n",
    "        else:\n",
    "            print(\"Cannot deposit - account is frozen!\")\n",
    "    \n",
    "    # Underscore prefix means Private Method i.e. cannot be directly accessed outside the class\n",
    "    # To define a private method prefix the member name with double underscore “__”\n",
    "    def __accrue_interest(self):\n",
    "        if self.balance > 0:\n",
    "            self.balance *= (1 + self.interest_rate)\n",
    "        \n",
    "    def view_balance(self):\n",
    "        print(f\"{self.name} has ${self.balance} remaining.\")\n",
    "        \n",
    "    def __freeze(self):\n",
    "        self.frozen = True\n",
    "    \n",
    "    def __unfreeze(self):\n",
    "        self.frozen = False\n",
    "    \n",
    "    # There is only 1 underscore prefixed for _year_end method so it is not a private method\n",
    "    def _year_end(self):\n",
    "        if(self.balance>10000000):\n",
    "            self.__freeze()\n",
    "            print(\"Bank account is frozen!\")\n",
    "        else:\n",
    "            self.withdrawals_left = 10\n",
    "            self.__accrue_interest()"
   ]
  },
  {
   "cell_type": "code",
   "execution_count": 7,
   "id": "a570f817",
   "metadata": {},
   "outputs": [
    {
     "name": "stdout",
     "output_type": "stream",
     "text": [
      "Bank account is frozen!\n"
     ]
    }
   ],
   "source": [
    "my_acc = BankAccount(\"Timothy Chan\", 0.03)\n",
    "my_acc.deposit(1000000000000)\n",
    "\n",
    "# There is only 1 underscore prefixed for _year_end method so it is not a private method\n",
    "my_acc._year_end()"
   ]
  },
  {
   "cell_type": "code",
   "execution_count": 8,
   "id": "8a575ae2",
   "metadata": {
    "scrolled": true
   },
   "outputs": [
    {
     "ename": "AttributeError",
     "evalue": "'BankAccount' object has no attribute '__freeze'",
     "output_type": "error",
     "traceback": [
      "\u001b[1;31m---------------------------------------------------------------------------\u001b[0m",
      "\u001b[1;31mAttributeError\u001b[0m                            Traceback (most recent call last)",
      "\u001b[1;32m<ipython-input-8-735d09558df7>\u001b[0m in \u001b[0;36m<module>\u001b[1;34m\u001b[0m\n\u001b[0;32m      1\u001b[0m \u001b[1;31m# Since it is a private method, an error will be encountered when it is called\u001b[0m\u001b[1;33m\u001b[0m\u001b[1;33m\u001b[0m\u001b[1;33m\u001b[0m\u001b[0m\n\u001b[1;32m----> 2\u001b[1;33m \u001b[0mmy_acc\u001b[0m\u001b[1;33m.\u001b[0m\u001b[0m__freeze\u001b[0m\u001b[1;33m(\u001b[0m\u001b[1;33m)\u001b[0m\u001b[1;33m\u001b[0m\u001b[1;33m\u001b[0m\u001b[0m\n\u001b[0m",
      "\u001b[1;31mAttributeError\u001b[0m: 'BankAccount' object has no attribute '__freeze'"
     ]
    }
   ],
   "source": [
    "# Since it is a private method, an error will be encountered when it is called\n",
    "my_acc.__freeze()"
   ]
  },
  {
   "cell_type": "markdown",
   "id": "52fd58c4",
   "metadata": {},
   "source": [
    "#### Bonus - Please feel free to build on the code above by writting more methods that will be required to manage Bank Accounts. \n",
    "\n",
    "For example, we would need a public method containing additional criteria to confirm when a bank account can be unfrozen before calling the private `__unfreeze()` method within the public method itself."
   ]
  },
  {
   "cell_type": "markdown",
   "id": "e0418538",
   "metadata": {},
   "source": [
    "## Key Takeaways\n",
    "\n",
    "* OOP is easy to use and write, but code can be pretty long sometimes.\n",
    "* OOP can serve to really clean your code up and make it easier to read.\n",
    "* We won't _need_ to build classes very often, but we should definitely do it more!"
   ]
  }
 ],
 "metadata": {
  "kernelspec": {
   "display_name": "Python 3",
   "language": "python",
   "name": "python3"
  },
  "language_info": {
   "codemirror_mode": {
    "name": "ipython",
    "version": 3
   },
   "file_extension": ".py",
   "mimetype": "text/x-python",
   "name": "python",
   "nbconvert_exporter": "python",
   "pygments_lexer": "ipython3",
   "version": "3.8.8"
  }
 },
 "nbformat": 4,
 "nbformat_minor": 5
}
