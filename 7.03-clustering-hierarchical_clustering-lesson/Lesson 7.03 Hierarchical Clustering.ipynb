{
 "cells": [
  {
   "cell_type": "markdown",
   "id": "df4fe671",
   "metadata": {},
   "source": [
    "# Lesson 7.03 Hierarchical Clustering\n",
    "\n",
    "## Recap: K-Means\n",
    "Here’s a brief overview of how K-means works:\n",
    "\n",
    "1. Decide the number of clusters (k)\n",
    "2. Select k random points from the data as centroids\n",
    "3. Assign all the points to the nearest cluster centroid\n",
    "4. Calculate the centroid of newly formed clusters\n",
    "5. Repeat steps 3 and 4\n",
    "\n",
    "It is an iterative process. It will keep on running until the centroids of newly formed clusters do not change or the maximum number of iterations are reached.\n",
    "\n",
    "## Why Hierarchical Clustering?\n",
    "\n",
    "Based on the above, there are certain challenges with K-means. It always tries to make clusters of the same size. Also, we have to decide the number of clusters at the beginning of the algorithm. Ideally, we would not know how many clusters should we have, in the beginning of the algorithm and hence it a challenge with K-means.\n",
    "\n",
    "This is a gap hierarchical clustering bridges effectively. It takes away the problem of having to pre-define the number of clusters.\n",
    "\n",
    "## What is Hierarchical Clustering?\n",
    "- We assign each point to an individual cluster in this technique. Suppose there are 4 data points. We will assign each of these points to a cluster and hence will have 4 clusters in the beginning:\n",
    "\n",
    "- Then, at each iteration, we merge the closest pair of clusters and repeat this step until only a single cluster is left:\n",
    "\n",
    "- We are merging (or adding) the clusters at each step, right? Hence, this type of clustering is also known as additive hierarchical clustering.\n",
    "\n",
    "\n",
    "## Setting up for hierarchical clustering analysis\n",
    "\n",
    "### Import Libraries"
   ]
  },
  {
   "cell_type": "code",
   "execution_count": 1,
   "id": "f600fb82",
   "metadata": {},
   "outputs": [],
   "source": [
    "import numpy as np\n",
    "import pandas as pd\n",
    "\n",
    "import matplotlib.pyplot as plt\n",
    "from pylab import rcParams\n",
    "import seaborn as sb\n",
    "\n",
    "import sklearn\n",
    "import sklearn.metrics as sm"
   ]
  },
  {
   "cell_type": "code",
   "execution_count": 2,
   "id": "b013fd31",
   "metadata": {},
   "outputs": [],
   "source": [
    "from sklearn.cluster import AgglomerativeClustering\n",
    "\n",
    "import scipy\n",
    "from scipy.cluster.hierarchy import dendrogram, linkage\n",
    "from scipy.cluster.hierarchy import fcluster\n",
    "from scipy.cluster.hierarchy import cophenet\n",
    "from scipy.spatial.distance import pdist"
   ]
  },
  {
   "cell_type": "code",
   "execution_count": 3,
   "id": "98703c4a",
   "metadata": {},
   "outputs": [],
   "source": [
    "np.set_printoptions(precision=4, suppress=True)\n",
    "plt.figure(figsize=(10, 3))\n",
    "%matplotlib inline\n",
    "plt.style.use('seaborn-whitegrid')"
   ]
  },
  {
   "cell_type": "markdown",
   "id": "06e4a11e",
   "metadata": {},
   "source": [
    "### Load Data"
   ]
  },
  {
   "cell_type": "code",
   "execution_count": 4,
   "id": "e2bf0b8f",
   "metadata": {},
   "outputs": [],
   "source": [
    "address = 'data/mtcars.csv'\n",
    "cars = pd.read_csv(address)\n",
    "cars.columns = ['car_names','mpg','cyl','disp', 'hp', 'drat', 'wt', 'qsec', 'vs', 'am', 'gear', 'carb']\n",
    "\n",
    "# set the following columns as X\n",
    "X = cars[['mpg', 'disp', 'hp', 'wt']].values\n",
    "\n",
    "# set col-index=9 (i.e. am) as y\n",
    "# am refers to whether the car has automatic or manual transmission\n",
    "y = cars.iloc[:,(9)].values"
   ]
  },
  {
   "cell_type": "markdown",
   "id": "1e1a7bf3",
   "metadata": {
    "collapsed": true
   },
   "source": [
    "### Using `scipy` to generate dendrograms"
   ]
  },
  {
   "cell_type": "code",
   "execution_count": 5,
   "id": "dae1434c",
   "metadata": {},
   "outputs": [],
   "source": [
    "# call linkage function on X-values\n",
    "# linkage function executes hierarchical clustering on specified data\n",
    "# ward takes the sum of squares of dist btw each pair of points divided by total sum of similarities btw 2 clusters\n",
    "# Z is the clustering result that has been generated from scipy's hierarchical clustering library\n",
    "\n",
    "# Here, \"X\" represents the matrix of data that we are clustering, and \"ward\" tells our\n",
    "# algorithm which method to use to calculate distance between our newly formed\n",
    "# clusters - in this case Ward's Method which seeks to minimize the variance when\n",
    "# forming clusters. When calculating distance, the default is Euclidean distance\n",
    "Z = linkage(X, 'ward')"
   ]
  },
  {
   "cell_type": "code",
   "execution_count": 6,
   "id": "d004b085",
   "metadata": {},
   "outputs": [
    {
     "data": {
      "image/png": "[encoded data removed]",
      "text/plain": [
       "<Figure size 432x288 with 1 Axes>"
      ]
     },
     "metadata": {},
     "output_type": "display_data"
    }
   ],
   "source": [
    "# create dendogram using clustering results, Z from above\n",
    "dendrogram(Z, truncate_mode='lastp', p=12, leaf_rotation=45., leaf_font_size=15, show_contracted=True)\n",
    "\n",
    "plt.title('Truncated Hierarchial Clustering Diagram')\n",
    "plt.xlabel('Cluster Size')\n",
    "plt.ylabel('Distance')\n",
    "\n",
    "# create horizontal lines on the plot\n",
    "plt.axhline(y=500)\n",
    "plt.axhline(y=150)\n",
    "\n",
    "# display dendogram\n",
    "plt.show()"
   ]
  },
  {
   "cell_type": "markdown",
   "id": "f9efd37f",
   "metadata": {},
   "source": [
    "### Generating hierarchical clusters"
   ]
  },
  {
   "cell_type": "code",
   "execution_count": 7,
   "id": "e46d81d0",
   "metadata": {},
   "outputs": [
    {
     "data": {
      "text/plain": [
       "array([1, 1, 1, 0, 0, 0, 0, 1, 1, 1, 1, 0, 0, 0, 0, 0, 0, 1, 1, 1, 1, 0,\n",
       "       0, 0, 0, 1, 1, 1, 0, 1, 0, 1], dtype=int64)"
      ]
     },
     "execution_count": 7,
     "metadata": {},
     "output_type": "execute_result"
    }
   ],
   "source": [
    "# Set k = 2, since Y variable consists of only 2 classes either automatic or manual transmission\n",
    "k=2\n",
    "\n",
    "# create hierarchical clustering object\n",
    "Hclustering = AgglomerativeClustering(n_clusters=k)\n",
    "Hclustering.fit(X)\n",
    "\n",
    "# The labels_ property returns an array of integers where the values correspond to the distinct categories\n",
    "labels = Hclustering.labels_\n",
    "labels"
   ]
  },
  {
   "cell_type": "markdown",
   "id": "740e7eb6",
   "metadata": {},
   "source": [
    "### Visualise Clusters"
   ]
  },
  {
   "cell_type": "code",
   "execution_count": 8,
   "id": "72c2fbc7",
   "metadata": {},
   "outputs": [
    {
     "data": {
      "text/plain": [
       "<matplotlib.collections.PathCollection at 0x16e779ed850>"
      ]
     },
     "execution_count": 8,
     "metadata": {},
     "output_type": "execute_result"
    },
    {
     "data": {
      "image/png": "[encoded data removed]",
      "text/plain": [
       "<Figure size 432x288 with 1 Axes>"
      ]
     },
     "metadata": {},
     "output_type": "display_data"
    }
   ],
   "source": [
    "# We can use a shorthand notation to display all the samples belonging to a category as a specific color.\n",
    "\n",
    "# plt.scatter(x,y,s,marker,color) where\n",
    "# x represents the X-values of each point on the plot\n",
    "# y represents the Y-values of each point on the plot\n",
    "# s represents the size of each point on the plot\n",
    "# marker represents the formatting style of each point on the plot\n",
    "\n",
    "\n",
    "plt.scatter(\n",
    "            # for Cluster labelled as 0, use col-index=0 in X-data as X-value of plot points\n",
    "            X[labels==0, 0], \n",
    "            \n",
    "            # for Cluster labelled as 0, use col-index=1 in X-data as Y-value of plot points          \n",
    "            X[labels==0, 1], \n",
    "            \n",
    "            # marker size = 50\n",
    "            s=50, \n",
    "            \n",
    "            # marker type = o\n",
    "            marker='o', \n",
    "            \n",
    "            # marker color = red\n",
    "            color='red')\n",
    "\n",
    "\n",
    "plt.scatter(\n",
    "            # for Cluster labelled as 1, use col-index=0 in X-data as X-value of plot points    \n",
    "            X[labels==1, 0], \n",
    "    \n",
    "            # for Cluster labelled as 1, use col-index=1 in X-data as Y-value of plot points\n",
    "            X[labels==1, 1], \n",
    "    \n",
    "            # marker size = 50\n",
    "            s=50, \n",
    "            \n",
    "            # marker type = o    \n",
    "            marker='o', \n",
    "            \n",
    "            # marker color = blue   \n",
    "            color='blue')"
   ]
  },
  {
   "cell_type": "markdown",
   "id": "0878127d",
   "metadata": {},
   "source": [
    "### Check Model Performance"
   ]
  },
  {
   "cell_type": "code",
   "execution_count": 9,
   "id": "e4526ab7",
   "metadata": {},
   "outputs": [
    {
     "data": {
      "text/plain": [
       "0.78125"
      ]
     },
     "execution_count": 9,
     "metadata": {},
     "output_type": "execute_result"
    }
   ],
   "source": [
    "# generate accuracy score\n",
    "sm.accuracy_score(y, labels)"
   ]
  }
 ],
 "metadata": {
  "kernelspec": {
   "display_name": "Python 3",
   "language": "python",
   "name": "python3"
  },
  "language_info": {
   "codemirror_mode": {
    "name": "ipython",
    "version": 3
   },
   "file_extension": ".py",
   "mimetype": "text/x-python",
   "name": "python",
   "nbconvert_exporter": "python",
   "pygments_lexer": "ipython3",
   "version": "3.8.8"
  }
 },
 "nbformat": 4,
 "nbformat_minor": 5
}
