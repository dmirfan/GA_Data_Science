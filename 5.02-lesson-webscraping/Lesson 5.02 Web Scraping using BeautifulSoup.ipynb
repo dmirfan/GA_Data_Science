{
 "cells": [
  {
   "cell_type": "markdown",
   "id": "cd474d8f",
   "metadata": {},
   "source": [
    "# Lesson 5.02 - Web Scraping using Beautiful Soup\n",
    "\n",
    "### Why Web Scraping?\n",
    "    \n",
    "- Popular way to gather data online\n",
    "- With massive amounts of data online, it is crucial to learn how to extract data efficiently and effectively"
   ]
  },
  {
   "cell_type": "markdown",
   "id": "b5cd0f43",
   "metadata": {},
   "source": [
    "## Install lxml\n",
    "#### What is lxml?\n",
    "1. lxml is a feature-rich and easy-to-use library for processing XML and HTML in the Python language.\n",
    "2. It's also very fast and memory friendly\n",
    "\n",
    "More info can be found at this [link](https://github.com/lxml/lxml)\n",
    "\n",
    "#### Installing lxml\n",
    "1. Launch Anaconda Command Prompt\n",
    "2. Execute conda install `lxml`"
   ]
  },
  {
   "cell_type": "markdown",
   "id": "7de57003",
   "metadata": {},
   "source": [
    "## Scrape a single page"
   ]
  },
  {
   "cell_type": "markdown",
   "id": "735b9e6a",
   "metadata": {},
   "source": [
    "### Import Packages"
   ]
  },
  {
   "cell_type": "code",
   "execution_count": 1,
   "id": "ddb67d01",
   "metadata": {},
   "outputs": [],
   "source": [
    "import pandas as pd\n",
    "import requests\n",
    "from bs4 import BeautifulSoup"
   ]
  },
  {
   "cell_type": "markdown",
   "id": "ed1fba1f",
   "metadata": {},
   "source": [
    "### Set up requests library to retrieve data from target website"
   ]
  },
  {
   "cell_type": "code",
   "execution_count": 2,
   "id": "6f3d7294",
   "metadata": {},
   "outputs": [],
   "source": [
    "# Indicate base url\n",
    "url = 'http://quotes.toscrape.com/'\n",
    "response = requests.get(url)"
   ]
  },
  {
   "cell_type": "markdown",
   "id": "5312eed2",
   "metadata": {},
   "source": [
    "### Create a BeautifulSoup object"
   ]
  },
  {
   "cell_type": "code",
   "execution_count": 3,
   "id": "b0e898bb",
   "metadata": {},
   "outputs": [],
   "source": [
    "soup = BeautifulSoup(response.text,'lxml')"
   ]
  },
  {
   "cell_type": "markdown",
   "id": "f3cd8f74",
   "metadata": {},
   "source": [
    "### `soup.find()`\n",
    "\n",
    "Returns either:\n",
    "\n",
    "1. A soup object of the first match\n",
    "2. `None`"
   ]
  },
  {
   "cell_type": "code",
   "execution_count": 4,
   "id": "99b78f7f",
   "metadata": {},
   "outputs": [],
   "source": [
    "quote = soup.find(\"span\", class_=\"text\")"
   ]
  },
  {
   "cell_type": "code",
   "execution_count": 5,
   "id": "46a6084d",
   "metadata": {},
   "outputs": [
    {
     "data": {
      "text/plain": [
       "'“The world as we have created it is a process of our thinking. It cannot be changed without changing our thinking.”'"
      ]
     },
     "execution_count": 5,
     "metadata": {},
     "output_type": "execute_result"
    }
   ],
   "source": [
    "quote.text"
   ]
  },
  {
   "cell_type": "markdown",
   "id": "52dd7453",
   "metadata": {},
   "source": [
    "### `soup.find_all()`\n",
    "\n",
    "Returns a **_LIST_** of soup objects that match your query"
   ]
  },
  {
   "cell_type": "code",
   "execution_count": 6,
   "id": "3963c2e3",
   "metadata": {},
   "outputs": [
    {
     "name": "stdout",
     "output_type": "stream",
     "text": [
      "“The world as we have created it is a process of our thinking. It cannot be changed without changing our thinking.”\n",
      "Albert Einstein\n",
      "change\n",
      "deep-thoughts\n",
      "thinking\n",
      "world\n",
      "“It is our choices, Harry, that show what we truly are, far more than our abilities.”\n",
      "J.K. Rowling\n",
      "abilities\n",
      "choices\n",
      "“There are only two ways to live your life. One is as though nothing is a miracle. The other is as though everything is a miracle.”\n",
      "Albert Einstein\n",
      "inspirational\n",
      "life\n",
      "live\n",
      "miracle\n",
      "miracles\n",
      "“The person, be it gentleman or lady, who has not pleasure in a good novel, must be intolerably stupid.”\n",
      "Jane Austen\n",
      "aliteracy\n",
      "books\n",
      "classic\n",
      "humor\n",
      "“Imperfection is beauty, madness is genius and it's better to be absolutely ridiculous than absolutely boring.”\n",
      "Marilyn Monroe\n",
      "be-yourself\n",
      "inspirational\n",
      "“Try not to become a man of success. Rather become a man of value.”\n",
      "Albert Einstein\n",
      "adulthood\n",
      "success\n",
      "value\n",
      "“It is better to be hated for what you are than to be loved for what you are not.”\n",
      "André Gide\n",
      "life\n",
      "love\n",
      "“I have not failed. I've just found 10,000 ways that won't work.”\n",
      "Thomas A. Edison\n",
      "edison\n",
      "failure\n",
      "inspirational\n",
      "paraphrased\n",
      "“A woman is like a tea bag; you never know how strong it is until it's in hot water.”\n",
      "Eleanor Roosevelt\n",
      "misattributed-eleanor-roosevelt\n",
      "“A day without sunshine is like, you know, night.”\n",
      "Steve Martin\n",
      "humor\n",
      "obvious\n",
      "simile\n"
     ]
    }
   ],
   "source": [
    "# store the actual quotes and their corresponding authors and tags in separate variables \n",
    "quotes = soup.find_all(\"span\", class_=\"text\")\n",
    "authors = soup.find_all(\"small\", class_=\"author\")\n",
    "tags = soup.find_all(\"div\", class_=\"tags\")\n",
    "for i in range(0,len(quotes)):\n",
    "    print(quotes[i].text)\n",
    "    print(authors[i].text)\n",
    "    quoteTags = tags[i].find_all('a',class_='tag')\n",
    "    for quoteTag in quoteTags:\n",
    "        print(quoteTag.text)"
   ]
  },
  {
   "cell_type": "markdown",
   "id": "d0d81710",
   "metadata": {},
   "source": [
    "## Scrape multiple pages (Pagination)"
   ]
  },
  {
   "cell_type": "markdown",
   "id": "d1449b47",
   "metadata": {},
   "source": [
    "### Print the data from Page 1"
   ]
  },
  {
   "cell_type": "code",
   "execution_count": 7,
   "id": "a0a262c6",
   "metadata": {},
   "outputs": [
    {
     "name": "stdout",
     "output_type": "stream",
     "text": [
      "1) Price: $24.99 , Item Name: Short Dress\n",
      "2) Price: $29.99 , Item Name: Patterned Slacks\n",
      "3) Price: $49.99 , Item Name: Short Chiffon Dress\n",
      "4) Price: $59.99 , Item Name: Off-the-shoulder Dress\n",
      "5) Price: $24.99 , Item Name: V-neck Top\n",
      "6) Price: $49.99 , Item Name: Short Chiffon Dress\n",
      "7) Price: $24.99 , Item Name: V-neck Top\n",
      "8) Price: $24.99 , Item Name: V-neck Top\n",
      "9) Price: $59.99 , Item Name: Short Lace Dress\n"
     ]
    }
   ],
   "source": [
    "# Set the base URL\n",
    "url = 'https://scrapingclub.com/exercise/list_basic/'\n",
    "\n",
    "# Set counter for iterating thru multiple pages in the website\n",
    "count = 1\n",
    "\n",
    "# Set up requests library to retrieve data from target website\n",
    "response = requests.get(url)\n",
    "\n",
    "# Instantiate BeautifulSoup object\n",
    "soup = BeautifulSoup(response.text, 'lxml')\n",
    "\n",
    "# Return a list of soup objects that are div tags with class = col-lg-4 col-md-6 mb-4 \n",
    "items = soup.find_all('div', class_='col-lg-4 col-md-6 mb-4')\n",
    "\n",
    "# Iterate through each Soup object\n",
    "for i in items:\n",
    "    \n",
    "    # Retrieve the item name which is encompased in h4 tags with card-title class. \n",
    "    # Remove all trailing spaces and blank lines if they exist\n",
    "    itemName = i.find('h4', class_='card-title').text.strip('\\n')\n",
    "        \n",
    "    # Retrieve the item price which is encompased in h5 tags \n",
    "    # Remove all trailing spaces and blank lines if they exist    \n",
    "    itemPrice = i.find('h5').text.strip('\\n')\n",
    "    \n",
    "    # Display the Item Number, Price and Name\n",
    "    print('%s) Price: %s , Item Name: %s' % (count, itemPrice, itemName))\n",
    "    \n",
    "    # Increment the count to move to the next item\n",
    "    count = count + 1"
   ]
  },
  {
   "cell_type": "markdown",
   "id": "3509b632",
   "metadata": {},
   "source": [
    "### Print the data from remaining pages"
   ]
  },
  {
   "cell_type": "code",
   "execution_count": 8,
   "id": "3f0c67a9",
   "metadata": {},
   "outputs": [
    {
     "name": "stdout",
     "output_type": "stream",
     "text": [
      "10) Price: $34.99 , Item Name: Fitted Dress\n",
      "11) Price: $69.99 , Item Name: V-neck Jumpsuit\n",
      "12) Price: $54.99 , Item Name: Chiffon Dress\n",
      "13) Price: $39.99 , Item Name: Skinny High Waist Jeans\n",
      "14) Price: $19.99 , Item Name: Super Skinny High Jeans\n",
      "15) Price: $19.99 , Item Name: Oversized Denim Jacket\n",
      "16) Price: $24.99 , Item Name: Short Sweatshirt\n",
      "17) Price: $12.99 , Item Name: Long-sleeved Jersey Top\n",
      "18) Price: $39.99 , Item Name: Skinny High Waist Jeans\n",
      "19) Price: $24.99 , Item Name: Short Sweatshirt\n",
      "20) Price: $12.99 , Item Name: Long-sleeved Jersey Top\n",
      "21) Price: $12.99 , Item Name: Long-sleeved Jersey Top\n",
      "22) Price: $19.99 , Item Name: Jersey Dress\n",
      "23) Price: $24.99 , Item Name: Short Sweatshirt\n",
      "24) Price: $24.99 , Item Name: Crinkled Flounced Blouse\n",
      "25) Price: $29.99 , Item Name: Bib Overall Dress\n",
      "26) Price: $17.99 , Item Name: Loose-knit Sweater\n",
      "27) Price: $29.99 , Item Name: Skinny Regular Jeans\n",
      "28) Price: $12.99 , Item Name: Henley-style Top\n",
      "29) Price: $17.99 , Item Name: Joggers\n",
      "30) Price: $34.99 , Item Name: Skirt with Lacing\n",
      "31) Price: $17.99 , Item Name: Top with Tie\n",
      "32) Price: $34.99 , Item Name: Joggers\n",
      "33) Price: $49.99 , Item Name: Chiffon Dress with Flounce\n",
      "34) Price: $34.99 , Item Name: Skirt with Lacing\n",
      "35) Price: $9.99 , Item Name: V-neck Top\n",
      "36) Price: $29.99 , Item Name: Hooded Jacket\n",
      "37) Price: $29.99 , Item Name: Hooded Top\n",
      "38) Price: $34.99 , Item Name: Lyocell-blend Blouse\n",
      "39) Price: $29.99 , Item Name: Bib Overall Dress\n",
      "40) Price: $34.99 , Item Name: Wide-leg Pants\n",
      "41) Price: $24.99 , Item Name: Ankle-length Slim-fit Pants\n",
      "42) Price: $9.99 , Item Name: Short Sweatshirt\n",
      "43) Price: $17.99 , Item Name: V-neck Blouse\n",
      "44) Price: $24.99 , Item Name: Short Skirt\n",
      "45) Price: $17.99 , Item Name: Mesh T-shirt\n",
      "46) Price: $59.99 , Item Name: Blouse with Embroidery\n",
      "47) Price: $34.99 , Item Name: Wide-cut Cotton Top\n",
      "48) Price: $54.99 , Item Name: Pleated Skirt\n",
      "49) Price: $69.99 , Item Name: Coat\n",
      "50) Price: $49.99 , Item Name: Wide-leg Pants\n",
      "51) Price: $29.99 , Item Name: Top\n",
      "52) Price: $69.99 , Item Name: Knit Mohair-blend Sweater\n",
      "53) Price: $69.99 , Item Name: Dress\n",
      "54) Price: $29.99 , Item Name: T-shirt with Embroidery\n",
      "55) Price: $49.99 , Item Name: Blouse with Ruffled Collar\n",
      "56) Price: $49.99 , Item Name: Pants\n",
      "57) Price: $19.99 , Item Name: Jersey Dress\n",
      "58) Price: $6.99 , Item Name: T-shirt\n",
      "59) Price: $6.99 , Item Name: T-shirt\n",
      "60) Price: $49.99 , Item Name: Blazer\n"
     ]
    }
   ],
   "source": [
    "# Retrieve the pagination object encompassed within the ul tag\n",
    "pagination = soup.find('ul', class_='pagination')\n",
    "\n",
    "# Retrieve the list of pages within tags of page-link class from the pagination ul tag\n",
    "pages = pagination.find_all('a', class_='page-link')\n",
    "\n",
    "# Create a list for storing the URL of each page\n",
    "urls = []\n",
    "\n",
    "# Iterate through the list of pages\n",
    "for page in pages:\n",
    "    \n",
    "    # Store the page number only if it is a number. \n",
    "    # This will help to omit other items found in the pagination object such as Next\n",
    "    pageNum = int(page.text) if page.text.isdigit() else None\n",
    "    \n",
    "    # Check if the page number is not null \n",
    "    if pageNum != None:\n",
    "        \n",
    "        # Retrieve the URL of each page from the value of its corresponding href element\n",
    "        link = page.get('href')\n",
    "        \n",
    "        # Add each page URL to the urls list\n",
    "        urls.append(link)\n",
    "        \n",
    "# Iterate through the list of urls       \n",
    "for i in urls:\n",
    "    # retreive text from each page and store it in the response variable\n",
    "    # url = base url and i = additional page number attribute e.g. ?page=1\n",
    "    response = requests.get(url + i)\n",
    "    \n",
    "    # create a BeautifulSoup object using the data from each page\n",
    "    soup = BeautifulSoup(response.text, 'lxml')\n",
    "    \n",
    "    # Return a list of soup objects that are div tags with class = col-lg-4 col-md-6 mb-4     \n",
    "    items = soup.find_all('div', class_='col-lg-4 col-md-6 mb-4')\n",
    "   \n",
    "    # Iterate through each Soup object\n",
    "    for i in items:\n",
    "        \n",
    "        # Retrieve the item name which is encompased in h4 tags with card-title class. \n",
    "        # Remove all trailing spaces and blank lines if they exist                 \n",
    "        itemName = i.find('h4', class_='card-title').text.strip('\\n')\n",
    "        \n",
    "        # Retrieve the item price which is encompased in h5 tags \n",
    "        # Remove all trailing spaces and blank lines if they exist          \n",
    "        itemPrice = i.find('h5').text\n",
    "        \n",
    "        # Display the Item Number, Price and Name\n",
    "        print('%s) Price: %s , Item Name: %s' % (count, itemPrice, itemName))\n",
    "        \n",
    "        # Increment the count to move to the next item \n",
    "        count = count + 1"
   ]
  },
  {
   "cell_type": "markdown",
   "id": "50f8a9c9",
   "metadata": {},
   "source": [
    "## Store scraped data in Data Frame"
   ]
  },
  {
   "cell_type": "code",
   "execution_count": 9,
   "id": "1803081b",
   "metadata": {},
   "outputs": [
    {
     "name": "stdout",
     "output_type": "stream",
     "text": [
      "{'itemNumber': 1, 'itemName': 'Short Dress', 'itemPrice': '$24.99'}\n",
      "{'itemNumber': 2, 'itemName': 'Patterned Slacks', 'itemPrice': '$29.99'}\n",
      "{'itemNumber': 3, 'itemName': 'Short Chiffon Dress', 'itemPrice': '$49.99'}\n",
      "{'itemNumber': 4, 'itemName': 'Off-the-shoulder Dress', 'itemPrice': '$59.99'}\n",
      "{'itemNumber': 5, 'itemName': 'V-neck Top', 'itemPrice': '$24.99'}\n",
      "{'itemNumber': 6, 'itemName': 'Short Chiffon Dress', 'itemPrice': '$49.99'}\n",
      "{'itemNumber': 7, 'itemName': 'V-neck Top', 'itemPrice': '$24.99'}\n",
      "{'itemNumber': 8, 'itemName': 'V-neck Top', 'itemPrice': '$24.99'}\n",
      "{'itemNumber': 9, 'itemName': 'Short Lace Dress', 'itemPrice': '$59.99'}\n"
     ]
    }
   ],
   "source": [
    "# Instantiate a list to store all the Products\n",
    "products = []\n",
    "\n",
    "# Set the base URL\n",
    "url = 'https://scrapingclub.com/exercise/list_basic/'\n",
    "\n",
    "# Set counter for iterating thru multiple pages in the website\n",
    "count = 1\n",
    "\n",
    "# Set up requests library to retrieve data from target website\n",
    "response = requests.get(url)\n",
    "\n",
    "# Instantiate BeautifulSoup object\n",
    "soup = BeautifulSoup(response.text, 'lxml')\n",
    "\n",
    "# Return a list of soup objects that are div tags with class = col-lg-4 col-md-6 mb-4 \n",
    "items = soup.find_all('div', class_='col-lg-4 col-md-6 mb-4')\n",
    "\n",
    "# Iterate through each Soup object\n",
    "for i in items:\n",
    "    \n",
    "    # Retrieve the item name which is encompased in h4 tags with card-title class. \n",
    "    # Remove all trailing spaces and blank lines if they exist\n",
    "    itemName = i.find('h4', class_='card-title').text.strip('\\n')\n",
    "    \n",
    "    # Retrieve the item price which is encompased in h5 tags \n",
    "    # Remove all trailing spaces and blank lines if they exist    \n",
    "    itemPrice = i.find('h5').text.strip('\\n')\n",
    "   \n",
    "    # Instantiate a new product Dictionary\n",
    "    product = {}\n",
    "    \n",
    "    # Store the Item Number, Name and Price\n",
    "    product['itemNumber'] = count\n",
    "    product['itemName'] = itemName\n",
    "    product['itemPrice'] = itemPrice\n",
    "    \n",
    "    # Add the product to the Products List\n",
    "    products.append(product)\n",
    "  \n",
    "    # Test if the product has been added successfully\n",
    "    print(product)\n",
    "    \n",
    "    # Increment the count to move to the next item\n",
    "    count = count + 1"
   ]
  },
  {
   "cell_type": "code",
   "execution_count": 10,
   "id": "05feec0c",
   "metadata": {},
   "outputs": [
    {
     "data": {
      "text/html": [
       "<div>\n",
       "<style scoped>\n",
       "    .dataframe tbody tr th:only-of-type {\n",
       "        vertical-align: middle;\n",
       "    }\n",
       "\n",
       "    .dataframe tbody tr th {\n",
       "        vertical-align: top;\n",
       "    }\n",
       "\n",
       "    .dataframe thead th {\n",
       "        text-align: right;\n",
       "    }\n",
       "</style>\n",
       "<table border=\"1\" class=\"dataframe\">\n",
       "  <thead>\n",
       "    <tr style=\"text-align: right;\">\n",
       "      <th></th>\n",
       "      <th>itemNumber</th>\n",
       "      <th>itemName</th>\n",
       "      <th>itemPrice</th>\n",
       "    </tr>\n",
       "  </thead>\n",
       "  <tbody>\n",
       "    <tr>\n",
       "      <th>0</th>\n",
       "      <td>1</td>\n",
       "      <td>Short Dress</td>\n",
       "      <td>$24.99</td>\n",
       "    </tr>\n",
       "    <tr>\n",
       "      <th>1</th>\n",
       "      <td>2</td>\n",
       "      <td>Patterned Slacks</td>\n",
       "      <td>$29.99</td>\n",
       "    </tr>\n",
       "    <tr>\n",
       "      <th>2</th>\n",
       "      <td>3</td>\n",
       "      <td>Short Chiffon Dress</td>\n",
       "      <td>$49.99</td>\n",
       "    </tr>\n",
       "    <tr>\n",
       "      <th>3</th>\n",
       "      <td>4</td>\n",
       "      <td>Off-the-shoulder Dress</td>\n",
       "      <td>$59.99</td>\n",
       "    </tr>\n",
       "    <tr>\n",
       "      <th>4</th>\n",
       "      <td>5</td>\n",
       "      <td>V-neck Top</td>\n",
       "      <td>$24.99</td>\n",
       "    </tr>\n",
       "    <tr>\n",
       "      <th>5</th>\n",
       "      <td>6</td>\n",
       "      <td>Short Chiffon Dress</td>\n",
       "      <td>$49.99</td>\n",
       "    </tr>\n",
       "    <tr>\n",
       "      <th>6</th>\n",
       "      <td>7</td>\n",
       "      <td>V-neck Top</td>\n",
       "      <td>$24.99</td>\n",
       "    </tr>\n",
       "    <tr>\n",
       "      <th>7</th>\n",
       "      <td>8</td>\n",
       "      <td>V-neck Top</td>\n",
       "      <td>$24.99</td>\n",
       "    </tr>\n",
       "    <tr>\n",
       "      <th>8</th>\n",
       "      <td>9</td>\n",
       "      <td>Short Lace Dress</td>\n",
       "      <td>$59.99</td>\n",
       "    </tr>\n",
       "  </tbody>\n",
       "</table>\n",
       "</div>"
      ],
      "text/plain": [
       "   itemNumber                itemName itemPrice\n",
       "0           1             Short Dress    $24.99\n",
       "1           2        Patterned Slacks    $29.99\n",
       "2           3     Short Chiffon Dress    $49.99\n",
       "3           4  Off-the-shoulder Dress    $59.99\n",
       "4           5              V-neck Top    $24.99\n",
       "5           6     Short Chiffon Dress    $49.99\n",
       "6           7              V-neck Top    $24.99\n",
       "7           8              V-neck Top    $24.99\n",
       "8           9        Short Lace Dress    $59.99"
      ]
     },
     "execution_count": 10,
     "metadata": {},
     "output_type": "execute_result"
    }
   ],
   "source": [
    "# Store the Products Dictionary in a Data Frame\n",
    "df = pd.DataFrame(products)\n",
    "\n",
    "# Display all data in the Data Frame\n",
    "df"
   ]
  }
 ],
 "metadata": {
  "kernelspec": {
   "display_name": "Python 3",
   "language": "python",
   "name": "python3"
  },
  "language_info": {
   "codemirror_mode": {
    "name": "ipython",
    "version": 3
   },
   "file_extension": ".py",
   "mimetype": "text/x-python",
   "name": "python",
   "nbconvert_exporter": "python",
   "pygments_lexer": "ipython3",
   "version": "3.8.8"
  }
 },
 "nbformat": 4,
 "nbformat_minor": 5
}
