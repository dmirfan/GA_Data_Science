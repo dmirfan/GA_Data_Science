{
 "cells": [
  {
   "cell_type": "markdown",
   "id": "bc54c81d",
   "metadata": {},
   "source": [
    "# Lesson 3.06 Regularization\n",
    "\n",
    "- Regularization is used to find the sweet spot between underfitting and overfitting models. \n",
    "    - As a result it is used to minimise bias and variance in models.\n",
    "- Goal of regularization models is to tune the model coefficients in such a way that you will get more stable model coefficients\n",
    "- Alpha is a parameter to tune the model or a param that informs model how aggressively you want to penalize for your coefficents\n",
    "    - The higher the alpha, the lower the coefficents (which may not always result in a better model)\n",
    "- There are two key regularization techniques, each of them aiming at decreasing the size of the coefficients:\n",
    "    - Ridge Regression, which penalizes sum of squared coefficients (L2 penalty).\n",
    "    - Lasso Regression, which penalizes the sum of absolute values of the coefficients (L1 penalty).\n",
    "- Lasso Regression is more aggressive in reducing coefficients to zero\n",
    " - As such Lasso can be used as a feature selector as well.\n",
    " - For example, before running a target model, you can run lasso regression and remove features with coefficent=0 and then run the target model"
   ]
  },
  {
   "cell_type": "markdown",
   "id": "9b0b12f1",
   "metadata": {},
   "source": [
    "## Import Libraries"
   ]
  },
  {
   "cell_type": "code",
   "execution_count": 1,
   "id": "352ce255",
   "metadata": {},
   "outputs": [],
   "source": [
    "import pandas as pd\n",
    "import numpy as np\n",
    "import matplotlib.pyplot as plt\n",
    "from sklearn import datasets\n",
    "from sklearn.model_selection import train_test_split\n",
    "from sklearn.linear_model import LinearRegression\n",
    "from sklearn.linear_model import Ridge, Lasso\n",
    "from sklearn.metrics import r2_score\n",
    "\n",
    "import warnings\n",
    "warnings.filterwarnings('ignore')"
   ]
  },
  {
   "cell_type": "markdown",
   "id": "fae410fc",
   "metadata": {},
   "source": [
    "## Load Data"
   ]
  },
  {
   "cell_type": "code",
   "execution_count": 2,
   "id": "b1170f38",
   "metadata": {
    "scrolled": true
   },
   "outputs": [
    {
     "data": {
      "text/html": [
       "<div>\n",
       "<style scoped>\n",
       "    .dataframe tbody tr th:only-of-type {\n",
       "        vertical-align: middle;\n",
       "    }\n",
       "\n",
       "    .dataframe tbody tr th {\n",
       "        vertical-align: top;\n",
       "    }\n",
       "\n",
       "    .dataframe thead th {\n",
       "        text-align: right;\n",
       "    }\n",
       "</style>\n",
       "<table border=\"1\" class=\"dataframe\">\n",
       "  <thead>\n",
       "    <tr style=\"text-align: right;\">\n",
       "      <th></th>\n",
       "      <th>TV</th>\n",
       "      <th>radio</th>\n",
       "      <th>newspaper</th>\n",
       "      <th>sales</th>\n",
       "    </tr>\n",
       "  </thead>\n",
       "  <tbody>\n",
       "    <tr>\n",
       "      <th>0</th>\n",
       "      <td>230.1</td>\n",
       "      <td>37.8</td>\n",
       "      <td>69.2</td>\n",
       "      <td>22.1</td>\n",
       "    </tr>\n",
       "    <tr>\n",
       "      <th>1</th>\n",
       "      <td>44.5</td>\n",
       "      <td>39.3</td>\n",
       "      <td>45.1</td>\n",
       "      <td>10.4</td>\n",
       "    </tr>\n",
       "    <tr>\n",
       "      <th>2</th>\n",
       "      <td>17.2</td>\n",
       "      <td>45.9</td>\n",
       "      <td>69.3</td>\n",
       "      <td>9.3</td>\n",
       "    </tr>\n",
       "    <tr>\n",
       "      <th>3</th>\n",
       "      <td>151.5</td>\n",
       "      <td>41.3</td>\n",
       "      <td>58.5</td>\n",
       "      <td>18.5</td>\n",
       "    </tr>\n",
       "    <tr>\n",
       "      <th>4</th>\n",
       "      <td>180.8</td>\n",
       "      <td>10.8</td>\n",
       "      <td>58.4</td>\n",
       "      <td>12.9</td>\n",
       "    </tr>\n",
       "  </tbody>\n",
       "</table>\n",
       "</div>"
      ],
      "text/plain": [
       "      TV  radio  newspaper  sales\n",
       "0  230.1   37.8       69.2   22.1\n",
       "1   44.5   39.3       45.1   10.4\n",
       "2   17.2   45.9       69.3    9.3\n",
       "3  151.5   41.3       58.5   18.5\n",
       "4  180.8   10.8       58.4   12.9"
      ]
     },
     "execution_count": 2,
     "metadata": {},
     "output_type": "execute_result"
    }
   ],
   "source": [
    "# bring in advertising data\n",
    "ads = pd.read_csv('Advertising.csv')\n",
    "\n",
    "# drop Unnamed: 0 column\n",
    "ads = ads.drop(columns='Unnamed: 0')\n",
    "ads.head()"
   ]
  },
  {
   "cell_type": "code",
   "execution_count": 3,
   "id": "34c2dba4",
   "metadata": {},
   "outputs": [],
   "source": [
    "# Separating predictors and response variables\n",
    "\n",
    "# create X and y\n",
    "FEATURES = ['TV', 'radio', 'newspaper']\n",
    "\n",
    "# All columns in feature list\n",
    "predictors = ads[FEATURES]\n",
    "\n",
    "# target column has been maintained separately in pre-built data set\n",
    "response = ads['sales']"
   ]
  },
  {
   "cell_type": "code",
   "execution_count": 4,
   "id": "46ad434a",
   "metadata": {},
   "outputs": [
    {
     "name": "stdout",
     "output_type": "stream",
     "text": [
      "(150, 3)\n",
      "(50, 3)\n"
     ]
    }
   ],
   "source": [
    "X_train, X_test, y_train, y_test = train_test_split(predictors, response, random_state=42)\n",
    "\n",
    "print(X_train.shape)\n",
    "print(X_test.shape)"
   ]
  },
  {
   "cell_type": "markdown",
   "id": "0cbebf2c",
   "metadata": {},
   "source": [
    "## Build Simple Linear Regression Model"
   ]
  },
  {
   "cell_type": "code",
   "execution_count": 5,
   "id": "cc2e1cbc",
   "metadata": {},
   "outputs": [
    {
     "name": "stdout",
     "output_type": "stream",
     "text": [
      "Test R-squared score : 0.8843196200174288\n"
     ]
    }
   ],
   "source": [
    "# Apply simple linear regression\n",
    "lr = LinearRegression()\n",
    "lr.fit(X_train, y_train)\n",
    "\n",
    "# Predict based on test data\n",
    "lr_pred = lr.predict(X_test)\n",
    "\n",
    "# Calculate model performance\n",
    "# To derive other metrics, check out https://scikit-learn.org/stable/modules/classes.html#module-sklearn.metrics\n",
    "R_squared = r2_score(lr_pred, y_test)\n",
    "print('Test R-squared score :', R_squared)"
   ]
  },
  {
   "cell_type": "code",
   "execution_count": 6,
   "id": "fd030b2f",
   "metadata": {
    "scrolled": false
   },
   "outputs": [
    {
     "name": "stdout",
     "output_type": "stream",
     "text": [
      "  Column_Name  Coefficient_Value\n",
      "0          TV           0.045434\n",
      "1       radio           0.191457\n",
      "2   newspaper           0.002568\n"
     ]
    },
    {
     "data": {
      "text/plain": [
       "<BarContainer object of 3 artists>"
      ]
     },
     "execution_count": 6,
     "metadata": {},
     "output_type": "execute_result"
    },
    {
     "data": {
      "image/png": "[encoded data removed]",
      "text/plain": [
       "<Figure size 1080x432 with 1 Axes>"
      ]
     },
     "metadata": {
      "needs_background": "light"
     },
     "output_type": "display_data"
    }
   ],
   "source": [
    "# Create df for storing coefficients and their corresponding variable names\n",
    "coefficient_df = pd.DataFrame()\n",
    "\n",
    "# Storing all the column names of predictors\n",
    "coefficient_df['Column_Name'] = X_train.columns\n",
    "\n",
    "# Store coefficients of predictors\n",
    "coefficient_df['Coefficient_Value'] = pd.Series(lr.coef_)\n",
    "\n",
    "# Preview variables' coefficient values\n",
    "# The higher the values, the stronger the variables\n",
    "print(coefficient_df)\n",
    "\n",
    "# Plot the coefficent values\n",
    "# Goal is to tune the model so that we get a more stable model i.e. similar size coefficient values\n",
    "plt.rcParams['figure.figsize'] = (15,6)\n",
    "plt.bar(coefficient_df[\"Column_Name\"], coefficient_df['Coefficient_Value'])"
   ]
  },
  {
   "cell_type": "markdown",
   "id": "31769c44",
   "metadata": {},
   "source": [
    "## Build Regularization Models - Ridge Regression (L2)"
   ]
  },
  {
   "cell_type": "code",
   "execution_count": 7,
   "id": "0fcacce8",
   "metadata": {},
   "outputs": [
    {
     "name": "stdout",
     "output_type": "stream",
     "text": [
      "Test R-squared score : 0.8843184672840059\n"
     ]
    }
   ],
   "source": [
    "# Train the model\n",
    "# Start with the default alpha value of 1 and experiment with different values and its impact on the R-squared values\n",
    "# we will learn a more efficient technique on how to find the optimal alpha value during our model tuning lesson\n",
    "ridgeRegressor = Ridge()\n",
    "ridgeRegressor.fit(X_train, y_train)\n",
    "ridge_pred = ridgeRegressor.predict(X_test)\n",
    "\n",
    "# Calculate model performance\n",
    "# To derive other metrics, check out https://scikit-learn.org/stable/modules/classes.html#module-sklearn.metrics\n",
    "R_squared = r2_score(ridge_pred, y_test)\n",
    "print('Test R-squared score :', R_squared)"
   ]
  },
  {
   "cell_type": "code",
   "execution_count": 8,
   "id": "819e40a7",
   "metadata": {},
   "outputs": [
    {
     "name": "stdout",
     "output_type": "stream",
     "text": [
      "  Column_Name  Coefficient_Value\n",
      "0          TV           0.045434\n",
      "1       radio           0.191450\n",
      "2   newspaper           0.002570\n"
     ]
    },
    {
     "data": {
      "text/plain": [
       "<BarContainer object of 3 artists>"
      ]
     },
     "execution_count": 8,
     "metadata": {},
     "output_type": "execute_result"
    },
    {
     "data": {
      "image/png": "[encoded data removed]",
      "text/plain": [
       "<Figure size 1080x432 with 1 Axes>"
      ]
     },
     "metadata": {
      "needs_background": "light"
     },
     "output_type": "display_data"
    }
   ],
   "source": [
    "# Create df for storing coefficients and their corresponding variable names\n",
    "coefficient_df = pd.DataFrame()\n",
    "\n",
    "# Storing all the column names of predictors\n",
    "coefficient_df['Column_Name'] = X_train.columns\n",
    "\n",
    "# Store coefficients of predictors\n",
    "coefficient_df['Coefficient_Value'] = pd.Series(ridgeRegressor.coef_)\n",
    "\n",
    "# Preview variables' coefficient values\n",
    "# The higher the values, the stronger the variables\n",
    "print(coefficient_df)\n",
    "\n",
    "# Plot the coefficent values\n",
    "# Goal is to tune the model so that we get a more stable model i.e. similar size coefficient values\n",
    "plt.rcParams['figure.figsize'] = (15,6)\n",
    "plt.bar(coefficient_df[\"Column_Name\"], coefficient_df['Coefficient_Value'])\n",
    "\n",
    "# L2 Regularization has reduced the coefficient values from what has been observed in Linear Regression\n",
    "# Note: Regularization does not always improve model performance as seen in this case where Linear outperforms Ridge"
   ]
  },
  {
   "cell_type": "markdown",
   "id": "d6624ca0",
   "metadata": {},
   "source": [
    "## Build Regularization Models - Lasso Regression (L1)"
   ]
  },
  {
   "cell_type": "code",
   "execution_count": 9,
   "id": "eae3a78b",
   "metadata": {},
   "outputs": [
    {
     "name": "stdout",
     "output_type": "stream",
     "text": [
      "Test R-squared score : 0.8837418901786619\n"
     ]
    }
   ],
   "source": [
    "# Train the model\n",
    "# Start with the default alpha value of 1 and experiment with different values and its impact on the R-squared values\n",
    "# we will learn a more efficient technique on how to find the optimal alpha value during our model tuning lesson\n",
    "lassoRegressor = Lasso()\n",
    "lassoRegressor.fit(X_train, y_train)\n",
    "lasso_pred = lassoRegressor.predict(X_test)\n",
    "\n",
    "# Calculate model performance\n",
    "# To derive other metrics, check out https://scikit-learn.org/stable/modules/classes.html#module-sklearn.metrics\n",
    "R_squared = r2_score(lasso_pred, y_test)\n",
    "print('Test R-squared score :', R_squared)"
   ]
  },
  {
   "cell_type": "code",
   "execution_count": 10,
   "id": "be967b6a",
   "metadata": {
    "scrolled": false
   },
   "outputs": [
    {
     "name": "stdout",
     "output_type": "stream",
     "text": [
      "  Column_Name  Coefficient_Value\n",
      "0          TV           0.045328\n",
      "1       radio           0.187637\n",
      "2   newspaper           0.001282\n"
     ]
    },
    {
     "data": {
      "text/plain": [
       "<BarContainer object of 3 artists>"
      ]
     },
     "execution_count": 10,
     "metadata": {},
     "output_type": "execute_result"
    },
    {
     "data": {
      "image/png": "[encoded data removed]",
      "text/plain": [
       "<Figure size 1080x432 with 1 Axes>"
      ]
     },
     "metadata": {
      "needs_background": "light"
     },
     "output_type": "display_data"
    }
   ],
   "source": [
    "# Create df for storing coefficients and their corresponding variable names\n",
    "coefficient_df = pd.DataFrame()\n",
    "\n",
    "# Storing all the column names of predictors\n",
    "coefficient_df['Column_Name'] = X_train.columns\n",
    "\n",
    "# Store coefficients of predictors\n",
    "coefficient_df['Coefficient_Value'] = pd.Series(lassoRegressor.coef_)\n",
    "\n",
    "# Preview variables' coefficient values\n",
    "# The higher the values, the stronger the variables\n",
    "print(coefficient_df)\n",
    "\n",
    "# Plot the coefficent values\n",
    "# Goal is to tune the model so that we get a more stable model i.e. similar size coefficient values\n",
    "plt.rcParams['figure.figsize'] = (15,6)\n",
    "plt.bar(coefficient_df[\"Column_Name\"], coefficient_df['Coefficient_Value'])\n",
    "\n",
    "# L2 Regularization has reduced the coefficient values from what has been observed in Linear Regression\n",
    "# Note: Regularization does not always improve model performance as seen in this case where Linear outperforms Lasso"
   ]
  },
  {
   "cell_type": "markdown",
   "id": "11918f9a",
   "metadata": {},
   "source": [
    "### Using Regularization Models for Feature Selection\n",
    "As seen above, since the Lasso Regression shrinks the coefficients of the weaker variables to 0, we can drop these variables and re-run the model to improve model performance\n",
    "\n",
    "**Note:** Regularization is not the only technique to improve model performance and we will explore more techniques in future lessons"
   ]
  },
  {
   "cell_type": "code",
   "execution_count": 11,
   "id": "998e308f",
   "metadata": {},
   "outputs": [
    {
     "data": {
      "text/html": [
       "<div>\n",
       "<style scoped>\n",
       "    .dataframe tbody tr th:only-of-type {\n",
       "        vertical-align: middle;\n",
       "    }\n",
       "\n",
       "    .dataframe tbody tr th {\n",
       "        vertical-align: top;\n",
       "    }\n",
       "\n",
       "    .dataframe thead th {\n",
       "        text-align: right;\n",
       "    }\n",
       "</style>\n",
       "<table border=\"1\" class=\"dataframe\">\n",
       "  <thead>\n",
       "    <tr style=\"text-align: right;\">\n",
       "      <th></th>\n",
       "      <th>TV</th>\n",
       "      <th>radio</th>\n",
       "    </tr>\n",
       "  </thead>\n",
       "  <tbody>\n",
       "    <tr>\n",
       "      <th>0</th>\n",
       "      <td>230.1</td>\n",
       "      <td>37.8</td>\n",
       "    </tr>\n",
       "    <tr>\n",
       "      <th>1</th>\n",
       "      <td>44.5</td>\n",
       "      <td>39.3</td>\n",
       "    </tr>\n",
       "    <tr>\n",
       "      <th>2</th>\n",
       "      <td>17.2</td>\n",
       "      <td>45.9</td>\n",
       "    </tr>\n",
       "    <tr>\n",
       "      <th>3</th>\n",
       "      <td>151.5</td>\n",
       "      <td>41.3</td>\n",
       "    </tr>\n",
       "    <tr>\n",
       "      <th>4</th>\n",
       "      <td>180.8</td>\n",
       "      <td>10.8</td>\n",
       "    </tr>\n",
       "  </tbody>\n",
       "</table>\n",
       "</div>"
      ],
      "text/plain": [
       "      TV  radio\n",
       "0  230.1   37.8\n",
       "1   44.5   39.3\n",
       "2   17.2   45.9\n",
       "3  151.5   41.3\n",
       "4  180.8   10.8"
      ]
     },
     "execution_count": 11,
     "metadata": {},
     "output_type": "execute_result"
    }
   ],
   "source": [
    "# Drop the newspaper column since their lasso regeession coefficients is close to zero\n",
    "predictors_v2 = predictors.drop(columns=['newspaper'], axis=1)\n",
    "predictors_v2.head()"
   ]
  },
  {
   "cell_type": "code",
   "execution_count": 12,
   "id": "9bb1541b",
   "metadata": {},
   "outputs": [
    {
     "name": "stdout",
     "output_type": "stream",
     "text": [
      "(150, 2)\n",
      "(50, 2)\n"
     ]
    }
   ],
   "source": [
    "X_train, X_test, y_train, y_test = train_test_split(predictors_v2, response, random_state=42)\n",
    "\n",
    "print(X_train.shape)\n",
    "print(X_test.shape)"
   ]
  },
  {
   "cell_type": "code",
   "execution_count": 20,
   "id": "34c10128",
   "metadata": {},
   "outputs": [
    {
     "name": "stdout",
     "output_type": "stream",
     "text": [
      "Test R-squared score : 0.8944787062601195\n"
     ]
    }
   ],
   "source": [
    "# Apply simple linear regression\n",
    "lr = LinearRegression()\n",
    "lr.fit(X_train, y_train)\n",
    "\n",
    "# Predict based on test data\n",
    "lr_pred = lr.predict(X_test)\n",
    "\n",
    "# Calculate model performance\n",
    "# To derive other metrics, check out https://scikit-learn.org/stable/modules/classes.html#module-sklearn.metrics\n",
    "R_squared = r2_score(y_test, lr_pred)\n",
    "print('Test R-squared score :', R_squared)\n",
    "\n",
    "# As seen below, dropping the weaker variables as identified by Lasso Regression had given us the best model performance"
   ]
  }
 ],
 "metadata": {
  "kernelspec": {
   "display_name": "Python 3",
   "language": "python",
   "name": "python3"
  },
  "language_info": {
   "codemirror_mode": {
    "name": "ipython",
    "version": 3
   },
   "file_extension": ".py",
   "mimetype": "text/x-python",
   "name": "python",
   "nbconvert_exporter": "python",
   "pygments_lexer": "ipython3",
   "version": "3.8.8"
  }
 },
 "nbformat": 4,
 "nbformat_minor": 5
}
