{
 "cells": [
  {
   "cell_type": "markdown",
   "id": "ffa652f8",
   "metadata": {},
   "source": [
    "# Lesson 4.04 - Classification Metrics II"
   ]
  },
  {
   "cell_type": "markdown",
   "id": "8a11b290",
   "metadata": {},
   "source": [
    "## Import Libraries\n",
    "#### \"Explicit is better than implicit\"\n",
    "By being specific in your import statements, you are making your code:\n",
    "* More readable\n",
    "* Easier to maintain\n",
    "* Easier for IDEs to \"lint\" i.e. debug and recommended optimisations\n",
    "\n",
    "Read more in the <b>COMMENTS SECTION</b> of this [link](https://towardsdatascience.com/import-all-python-libraries-in-one-line-of-code-86e54f6f0108) on why you should not import all Python libraries in one line of code"
   ]
  },
  {
   "cell_type": "code",
   "execution_count": 1,
   "id": "640de79b",
   "metadata": {},
   "outputs": [],
   "source": [
    "import matplotlib.pyplot as plt\n",
    "\n",
    "import numpy as np\n",
    "import seaborn as sns\n",
    "import pandas as pd\n",
    "\n",
    "from sklearn.model_selection import train_test_split\n",
    "from sklearn.preprocessing import StandardScaler\n",
    "from sklearn.linear_model import LogisticRegression\n",
    "\n",
    "# Import metrics.\n",
    "from sklearn.metrics import confusion_matrix, ConfusionMatrixDisplay, accuracy_score, RocCurveDisplay, roc_auc_score, recall_score, precision_score, f1_score"
   ]
  },
  {
   "cell_type": "markdown",
   "id": "6ab5e3d8",
   "metadata": {
    "collapsed": true
   },
   "source": [
    "## Load the Dataset\n",
    " The code below loads a modified version of the iris dataset which has two classes (categories). \n",
    "* A `1` is a virginica flower\n",
    "* A `0` is versicolor flower"
   ]
  },
  {
   "cell_type": "code",
   "execution_count": 2,
   "id": "d55c5c59",
   "metadata": {},
   "outputs": [],
   "source": [
    "df = pd.read_csv('data/modifiedIris2Classes.csv')"
   ]
  },
  {
   "cell_type": "code",
   "execution_count": 3,
   "id": "25bfb8ab",
   "metadata": {},
   "outputs": [
    {
     "data": {
      "text/plain": [
       "(100, 5)"
      ]
     },
     "execution_count": 3,
     "metadata": {},
     "output_type": "execute_result"
    }
   ],
   "source": [
    "df.shape"
   ]
  },
  {
   "cell_type": "markdown",
   "id": "113255e4",
   "metadata": {},
   "source": [
    "## Splitting Data into Training and Test Sets"
   ]
  },
  {
   "cell_type": "code",
   "execution_count": 4,
   "id": "cbfb92fd",
   "metadata": {},
   "outputs": [],
   "source": [
    "X_train, X_test, y_train, y_test = train_test_split(df[['petal length (cm)']], df['target'], random_state=0)"
   ]
  },
  {
   "cell_type": "markdown",
   "id": "b399dca6",
   "metadata": {},
   "source": [
    "## Standardize the Data\n",
    "Logistic Regression is impacted by scale so you need to scale the features in the data before using Logistic Regresison.  \n",
    "\n",
    "Scikit-Learn's `StandardScaler` helps standardize the dataset’s features for better performance by changing the values so that the distribution standard deviation from the mean equals one. More info can be found [here](https://towardsdatascience.com/scale-standardize-or-normalize-with-scikit-learn-6ccc7d176a02)."
   ]
  },
  {
   "cell_type": "code",
   "execution_count": 5,
   "id": "cbb12b12",
   "metadata": {},
   "outputs": [],
   "source": [
    "scaler = StandardScaler()\n",
    "\n",
    "# Fit on training set only.\n",
    "scaler.fit(X_train)\n",
    "\n",
    "# Apply transform to both the training set and the test set.\n",
    "X_train = scaler.transform(X_train)\n",
    "X_test = scaler.transform(X_test)"
   ]
  },
  {
   "cell_type": "markdown",
   "id": "b27f4adf",
   "metadata": {},
   "source": [
    "## Logistic Regression\n",
    "\n",
    "<b>Step 1:</b> Import the model you want to use"
   ]
  },
  {
   "cell_type": "code",
   "execution_count": 6,
   "id": "83697a25",
   "metadata": {},
   "outputs": [],
   "source": [
    "# This was already imported earlier in the notebook so commenting out\n",
    "#from sklearn.linear_model import LogisticRegression"
   ]
  },
  {
   "cell_type": "markdown",
   "id": "f5affeb0",
   "metadata": {},
   "source": [
    "<b>Step 2:</b> Make an instance of the Model"
   ]
  },
  {
   "cell_type": "code",
   "execution_count": 7,
   "id": "f195f7dd",
   "metadata": {},
   "outputs": [],
   "source": [
    "lr = LogisticRegression()"
   ]
  },
  {
   "cell_type": "markdown",
   "id": "2e19e59a",
   "metadata": {},
   "source": [
    "<b>Step 3:</b> Training the model on the data, storing the information learned from the data"
   ]
  },
  {
   "cell_type": "markdown",
   "id": "3169ea14",
   "metadata": {},
   "source": [
    "Model is learning the relationship between x (features sepal width, sepal height etc) and y (labels-which species of iris)"
   ]
  },
  {
   "cell_type": "code",
   "execution_count": 8,
   "id": "0374eb1c",
   "metadata": {},
   "outputs": [
    {
     "data": {
      "text/html": [
       "<style>#sk-container-id-1 {color: black;background-color: white;}#sk-container-id-1 pre{padding: 0;}#sk-container-id-1 div.sk-toggleable {background-color: white;}#sk-container-id-1 label.sk-toggleable__label {cursor: pointer;display: block;width: 100%;margin-bottom: 0;padding: 0.3em;box-sizing: border-box;text-align: center;}#sk-container-id-1 label.sk-toggleable__label-arrow:before {content: \"▸\";float: left;margin-right: 0.25em;color: #696969;}#sk-container-id-1 label.sk-toggleable__label-arrow:hover:before {color: black;}#sk-container-id-1 div.sk-estimator:hover label.sk-toggleable__label-arrow:before {color: black;}#sk-container-id-1 div.sk-toggleable__content {max-height: 0;max-width: 0;overflow: hidden;text-align: left;background-color: #f0f8ff;}#sk-container-id-1 div.sk-toggleable__content pre {margin: 0.2em;color: black;border-radius: 0.25em;background-color: #f0f8ff;}#sk-container-id-1 input.sk-toggleable__control:checked~div.sk-toggleable__content {max-height: 200px;max-width: 100%;overflow: auto;}#sk-container-id-1 input.sk-toggleable__control:checked~label.sk-toggleable__label-arrow:before {content: \"▾\";}#sk-container-id-1 div.sk-estimator input.sk-toggleable__control:checked~label.sk-toggleable__label {background-color: #d4ebff;}#sk-container-id-1 div.sk-label input.sk-toggleable__control:checked~label.sk-toggleable__label {background-color: #d4ebff;}#sk-container-id-1 input.sk-hidden--visually {border: 0;clip: rect(1px 1px 1px 1px);clip: rect(1px, 1px, 1px, 1px);height: 1px;margin: -1px;overflow: hidden;padding: 0;position: absolute;width: 1px;}#sk-container-id-1 div.sk-estimator {font-family: monospace;background-color: #f0f8ff;border: 1px dotted black;border-radius: 0.25em;box-sizing: border-box;margin-bottom: 0.5em;}#sk-container-id-1 div.sk-estimator:hover {background-color: #d4ebff;}#sk-container-id-1 div.sk-parallel-item::after {content: \"\";width: 100%;border-bottom: 1px solid gray;flex-grow: 1;}#sk-container-id-1 div.sk-label:hover label.sk-toggleable__label {background-color: #d4ebff;}#sk-container-id-1 div.sk-serial::before {content: \"\";position: absolute;border-left: 1px solid gray;box-sizing: border-box;top: 0;bottom: 0;left: 50%;z-index: 0;}#sk-container-id-1 div.sk-serial {display: flex;flex-direction: column;align-items: center;background-color: white;padding-right: 0.2em;padding-left: 0.2em;position: relative;}#sk-container-id-1 div.sk-item {position: relative;z-index: 1;}#sk-container-id-1 div.sk-parallel {display: flex;align-items: stretch;justify-content: center;background-color: white;position: relative;}#sk-container-id-1 div.sk-item::before, #sk-container-id-1 div.sk-parallel-item::before {content: \"\";position: absolute;border-left: 1px solid gray;box-sizing: border-box;top: 0;bottom: 0;left: 50%;z-index: -1;}#sk-container-id-1 div.sk-parallel-item {display: flex;flex-direction: column;z-index: 1;position: relative;background-color: white;}#sk-container-id-1 div.sk-parallel-item:first-child::after {align-self: flex-end;width: 50%;}#sk-container-id-1 div.sk-parallel-item:last-child::after {align-self: flex-start;width: 50%;}#sk-container-id-1 div.sk-parallel-item:only-child::after {width: 0;}#sk-container-id-1 div.sk-dashed-wrapped {border: 1px dashed gray;margin: 0 0.4em 0.5em 0.4em;box-sizing: border-box;padding-bottom: 0.4em;background-color: white;}#sk-container-id-1 div.sk-label label {font-family: monospace;font-weight: bold;display: inline-block;line-height: 1.2em;}#sk-container-id-1 div.sk-label-container {text-align: center;}#sk-container-id-1 div.sk-container {/* jupyter's `normalize.less` sets `[hidden] { display: none; }` but bootstrap.min.css set `[hidden] { display: none !important; }` so we also need the `!important` here to be able to override the default hidden behavior on the sphinx rendered scikit-learn.org. See: https://github.com/scikit-learn/scikit-learn/issues/21755 */display: inline-block !important;position: relative;}#sk-container-id-1 div.sk-text-repr-fallback {display: none;}</style><div id=\"sk-container-id-1\" class=\"sk-top-container\"><div class=\"sk-text-repr-fallback\"><pre>LogisticRegression()</pre><b>In a Jupyter environment, please rerun this cell to show the HTML representation or trust the notebook. <br />On GitHub, the HTML representation is unable to render, please try loading this page with nbviewer.org.</b></div><div class=\"sk-container\" hidden><div class=\"sk-item\"><div class=\"sk-estimator sk-toggleable\"><input class=\"sk-toggleable__control sk-hidden--visually\" id=\"sk-estimator-id-1\" type=\"checkbox\" checked><label for=\"sk-estimator-id-1\" class=\"sk-toggleable__label sk-toggleable__label-arrow\">LogisticRegression</label><div class=\"sk-toggleable__content\"><pre>LogisticRegression()</pre></div></div></div></div></div>"
      ],
      "text/plain": [
       "LogisticRegression()"
      ]
     },
     "execution_count": 8,
     "metadata": {},
     "output_type": "execute_result"
    }
   ],
   "source": [
    "lr.fit(X_train, y_train)"
   ]
  },
  {
   "cell_type": "markdown",
   "id": "d159b067",
   "metadata": {},
   "source": [
    "<b>Step 4:</b> Predict the labels of new data (new flowers)"
   ]
  },
  {
   "cell_type": "markdown",
   "id": "02b85407",
   "metadata": {},
   "source": [
    "#### Logistic regression shows the predictions as well as prediction probabilities.\n",
    "This is unlike other classification models like KNN and decision trees which only give you a prediction and we will discuss further in the coming weeks."
   ]
  },
  {
   "cell_type": "code",
   "execution_count": 9,
   "id": "a526acd8",
   "metadata": {},
   "outputs": [
    {
     "data": {
      "text/plain": [
       "array([[-0.12093628]])"
      ]
     },
     "execution_count": 9,
     "metadata": {},
     "output_type": "execute_result"
    }
   ],
   "source": [
    "# One observation's petal length after standardization\n",
    "# X_test[0].reshape(1, -1) reshapes the first sample in the X_test dataset into a 2-dimensional array with 1 row and an inferred number of columns. This reshaping is typically done to match the expected input shape of the model.\n",
    "X_test[0].reshape(1,-1)"
   ]
  },
  {
   "cell_type": "code",
   "execution_count": 10,
   "id": "317fdce0",
   "metadata": {},
   "outputs": [
    {
     "name": "stdout",
     "output_type": "stream",
     "text": [
      "Prediction:  0\n",
      "Probability:  [[0.52720087 0.47279913]]\n"
     ]
    }
   ],
   "source": [
    "print('Prediction: ', lr.predict(X_test[0].reshape(1,-1))[0])\n",
    "print('Probability: ', lr.predict_proba(X_test[0].reshape(1,-1)))"
   ]
  },
  {
   "cell_type": "markdown",
   "id": "c0e886e8",
   "metadata": {},
   "source": [
    "#### Based on the model and results above:\n",
    "* The probability of a 0 is approx 0.53\n",
    "* The probability of a 1 is approx 0.47\n",
    "* Since the probability of a 0 is greater than 0.5, the model predicts a 0\n",
    "\n",
    "#### If this is unclear, let's visualize how logistic regression makes predictions by looking at our test data as seen below"
   ]
  },
  {
   "cell_type": "code",
   "execution_count": 11,
   "id": "7ed17fca",
   "metadata": {},
   "outputs": [],
   "source": [
    "# Load X values after standardization into petal length column\n",
    "example_df = pd.DataFrame()\n",
    "example_df.loc[:, 'petal length (cm)'] = X_test.reshape(-1)\n",
    "example_df.loc[:, 'target'] = y_test.values\n",
    "\n",
    "# Retrieving the predicted probability for the class=1 for each X_test value\n",
    "example_df['logistic_preds'] = pd.DataFrame(lr.predict_proba(X_test))[1]"
   ]
  },
  {
   "cell_type": "code",
   "execution_count": 12,
   "id": "6347716a",
   "metadata": {},
   "outputs": [
    {
     "data": {
      "text/html": [
       "<div>\n",
       "<style scoped>\n",
       "    .dataframe tbody tr th:only-of-type {\n",
       "        vertical-align: middle;\n",
       "    }\n",
       "\n",
       "    .dataframe tbody tr th {\n",
       "        vertical-align: top;\n",
       "    }\n",
       "\n",
       "    .dataframe thead th {\n",
       "        text-align: right;\n",
       "    }\n",
       "</style>\n",
       "<table border=\"1\" class=\"dataframe\">\n",
       "  <thead>\n",
       "    <tr style=\"text-align: right;\">\n",
       "      <th></th>\n",
       "      <th>petal length (cm)</th>\n",
       "      <th>target</th>\n",
       "      <th>logistic_preds</th>\n",
       "    </tr>\n",
       "  </thead>\n",
       "  <tbody>\n",
       "    <tr>\n",
       "      <th>0</th>\n",
       "      <td>-0.120936</td>\n",
       "      <td>0</td>\n",
       "      <td>0.472799</td>\n",
       "    </tr>\n",
       "    <tr>\n",
       "      <th>1</th>\n",
       "      <td>0.846554</td>\n",
       "      <td>1</td>\n",
       "      <td>0.950658</td>\n",
       "    </tr>\n",
       "    <tr>\n",
       "      <th>2</th>\n",
       "      <td>0.000000</td>\n",
       "      <td>0</td>\n",
       "      <td>0.568197</td>\n",
       "    </tr>\n",
       "    <tr>\n",
       "      <th>3</th>\n",
       "      <td>2.055917</td>\n",
       "      <td>1</td>\n",
       "      <td>0.998879</td>\n",
       "    </tr>\n",
       "    <tr>\n",
       "      <th>4</th>\n",
       "      <td>1.330299</td>\n",
       "      <td>1</td>\n",
       "      <td>0.988926</td>\n",
       "    </tr>\n",
       "  </tbody>\n",
       "</table>\n",
       "</div>"
      ],
      "text/plain": [
       "   petal length (cm)  target  logistic_preds\n",
       "0          -0.120936       0        0.472799\n",
       "1           0.846554       1        0.950658\n",
       "2           0.000000       0        0.568197\n",
       "3           2.055917       1        0.998879\n",
       "4           1.330299       1        0.988926"
      ]
     },
     "execution_count": 12,
     "metadata": {},
     "output_type": "execute_result"
    }
   ],
   "source": [
    "# Compare actual target with the predicted probability for class=1\n",
    "\n",
    "# For example for Row Index=1, the actual class (target col) is 1 while  \n",
    "# pred prob of class 1 is 95% which assigns the predicted class \n",
    "\n",
    "example_df.head()"
   ]
  },
  {
   "cell_type": "code",
   "execution_count": 13,
   "id": "3fc89658",
   "metadata": {},
   "outputs": [
    {
     "data": {
      "image/png": "[encoded data removed]",
      "text/plain": [
       "<Figure size 720x504 with 1 Axes>"
      ]
     },
     "metadata": {
      "needs_background": "light"
     },
     "output_type": "display_data"
    }
   ],
   "source": [
    "# Plot the probability of getting a virginica flower i.e. prob >= 0.5\n",
    "fig, ax = plt.subplots(nrows = 1, ncols = 1, figsize = (10,7));\n",
    "\n",
    "\n",
    "virginicaFilter = example_df['target'] == 1\n",
    "versicolorFilter = example_df['target'] == 0\n",
    "\n",
    "ax.scatter(example_df.loc[virginicaFilter, 'petal length (cm)'].values,\n",
    "            example_df.loc[virginicaFilter, 'logistic_preds'].values,\n",
    "           color = 'g',\n",
    "           s = 60,\n",
    "           label = 'virginica')\n",
    "\n",
    "\n",
    "ax.scatter(example_df.loc[versicolorFilter, 'petal length (cm)'].values,\n",
    "            example_df.loc[versicolorFilter, 'logistic_preds'].values,\n",
    "           color = 'b',\n",
    "           s = 60,\n",
    "           label = 'versicolor')\n",
    "\n",
    "ax.axhline(y = .5, c = 'y')\n",
    "\n",
    "ax.axhspan(.5, 1, alpha=0.05, color='green')\n",
    "ax.axhspan(0, .4999, alpha=0.05, color='blue')\n",
    "ax.text(0.5, .6, 'Classified as viginica', fontsize = 16)\n",
    "ax.text(0.5, .4, 'Classified as versicolor', fontsize = 16)\n",
    "\n",
    "ax.set_ylim(0,1)\n",
    "ax.legend(loc = 'lower right', markerscale = 1.0, fontsize = 12)\n",
    "ax.tick_params(labelsize = 18)\n",
    "ax.set_xlabel('petal length (cm)', fontsize = 24)\n",
    "ax.set_ylabel('probability of virginica', fontsize = 24)\n",
    "ax.set_title('Logistic Regression Predictions', fontsize = 24)\n",
    "fig.tight_layout()\n"
   ]
  },
  {
   "cell_type": "markdown",
   "id": "7c8e037a",
   "metadata": {},
   "source": [
    "## Measuring Model Performance"
   ]
  },
  {
   "cell_type": "markdown",
   "id": "d4f34e1e",
   "metadata": {},
   "source": [
    "While there are other ways of measuring model performance (precision, recall, F1 Score, ROC Curve, etc), let's keep this simple and use accuracy as our metric. \n",
    "To do this are going to see how the model performs on new data (test set)\n",
    "\n",
    "#### Accuracy is defined as: (fraction of correct predictions): correct predictions / total number of data points"
   ]
  },
  {
   "cell_type": "code",
   "execution_count": 14,
   "id": "a33e7103",
   "metadata": {},
   "outputs": [
    {
     "name": "stdout",
     "output_type": "stream",
     "text": [
      "0.88\n"
     ]
    }
   ],
   "source": [
    "score = lr.score(X_test, y_test)\n",
    "print(score)"
   ]
  },
  {
   "cell_type": "markdown",
   "id": "0a2ab3c0",
   "metadata": {},
   "source": [
    "Accuracy is one metric, but it doesn't say give much insight into what was wrong. Let's look at the confusion matrix"
   ]
  },
  {
   "cell_type": "code",
   "execution_count": 15,
   "id": "91e13d27",
   "metadata": {},
   "outputs": [
    {
     "data": {
      "image/png": "[encoded data removed]",
      "text/plain": [
       "<Figure size 648x648 with 2 Axes>"
      ]
     },
     "metadata": {
      "needs_background": "light"
     },
     "output_type": "display_data"
    }
   ],
   "source": [
    "# Generate predictions.\n",
    "preds = lr.predict(X_test)\n",
    "\n",
    "# Generate confusion matrix.\n",
    "# Documentation here: https://scikit-learn.org/stable/modules/generated/sklearn.metrics.confusion_matrix.html\n",
    "cm = confusion_matrix(y_test, preds)\n",
    "\n",
    "# plot it!\n",
    "plt.figure(figsize=(9,9))\n",
    "sns.heatmap(cm, annot=True,\n",
    "            fmt=\".0f\",\n",
    "            linewidths=.5,\n",
    "            square = True,\n",
    "            cmap = 'Blues');\n",
    "plt.ylabel('Actual label', fontsize = 17);\n",
    "plt.xlabel('Predicted label', fontsize = 17);\n",
    "plt.title('Accuracy Score: {}'.format(score), size = 17);\n",
    "plt.tick_params(labelsize= 15)"
   ]
  },
  {
   "cell_type": "markdown",
   "id": "75d65395",
   "metadata": {},
   "source": [
    "It may be challenging to interpret the table above. Let's attempt to visualise the data in a clearer way. "
   ]
  },
  {
   "cell_type": "code",
   "execution_count": 16,
   "id": "12016a1b",
   "metadata": {},
   "outputs": [],
   "source": [
    "# Create modified labels for Confusion Matrix\n",
    "modified_cm = []\n",
    "for index,value in enumerate(cm):\n",
    "    if index == 0:\n",
    "        modified_cm.append(['TN = ' + str(value[0]), 'FP = ' + str(value[1])])\n",
    "    if index == 1:\n",
    "        modified_cm.append(['FN = ' + str(value[0]), 'TP = ' + str(value[1])])   \n",
    "        "
   ]
  },
  {
   "cell_type": "code",
   "execution_count": 17,
   "id": "3a0865fc",
   "metadata": {},
   "outputs": [
    {
     "data": {
      "image/png": "[encoded data removed]",
      "text/plain": [
       "<Figure size 648x648 with 2 Axes>"
      ]
     },
     "metadata": {
      "needs_background": "light"
     },
     "output_type": "display_data"
    }
   ],
   "source": [
    "plt.figure(figsize=(9,9))\n",
    "sns.heatmap(cm, annot=np.array(modified_cm),\n",
    "            fmt=\"\",\n",
    "            annot_kws={\"size\": 20},\n",
    "            linewidths=.5,\n",
    "            square = True,\n",
    "            cmap = 'Blues',\n",
    "            xticklabels = ['versicolor', 'viginica'],\n",
    "            yticklabels = ['versicolor', 'viginica'],\n",
    "            );\n",
    "\n",
    "plt.ylabel('Actual label', fontsize = 17);\n",
    "plt.xlabel('Predicted label', fontsize = 17);\n",
    "plt.title('Accuracy Score: {:.3f}'.format(score), size = 17);\n",
    "plt.tick_params(labelsize= 15)"
   ]
  },
  {
   "cell_type": "markdown",
   "id": "7bb6cab9",
   "metadata": {},
   "source": [
    "### Beyond Accuracy \n",
    "<b>Recap:</b> Accuracy is the share of all total predictions that were correct <br/>\n",
    "Scikit Learn Metrics offer other ways to evaluate your model as seen below.\n",
    "\n",
    "#### Sensitivity a.k.a Recall (True Positive Rate)"
   ]
  },
  {
   "cell_type": "code",
   "execution_count": 18,
   "id": "420cfe6d",
   "metadata": {},
   "outputs": [
    {
     "data": {
      "text/plain": [
       "1.0"
      ]
     },
     "execution_count": 18,
     "metadata": {},
     "output_type": "execute_result"
    }
   ],
   "source": [
    "# Save TN/FP/FN/TP values.\n",
    "tn, fp, fn, tp = cm.ravel()\n",
    "\n",
    "# Note that .ravel() will arrange items in a one-dimensional array.\n",
    "# https://docs.scipy.org/doc/numpy/reference/generated/numpy.ravel.html\n",
    "\n",
    "# you could calculte manually\n",
    "sens = tp / (tp + fn)\n",
    "sens"
   ]
  },
  {
   "cell_type": "code",
   "execution_count": 19,
   "id": "0a854d43",
   "metadata": {},
   "outputs": [
    {
     "data": {
      "text/plain": [
       "1.0"
      ]
     },
     "execution_count": 19,
     "metadata": {},
     "output_type": "execute_result"
    }
   ],
   "source": [
    "# or you could use the sklearn recall method\n",
    "recall = recall_score(y_test, preds)\n",
    "recall"
   ]
  },
  {
   "cell_type": "markdown",
   "id": "5b8adab6",
   "metadata": {},
   "source": [
    "#### Specificity (True Negative Rate)"
   ]
  },
  {
   "cell_type": "code",
   "execution_count": 20,
   "id": "e5dd7278",
   "metadata": {},
   "outputs": [
    {
     "data": {
      "text/plain": [
       "0.7692307692307693"
      ]
     },
     "execution_count": 20,
     "metadata": {},
     "output_type": "execute_result"
    }
   ],
   "source": [
    "spec = tn / (tn + fp)\n",
    "spec"
   ]
  },
  {
   "cell_type": "markdown",
   "id": "64c9b16e",
   "metadata": {},
   "source": [
    "#### Precision (Ratio of True Positives vs All Positives)"
   ]
  },
  {
   "cell_type": "code",
   "execution_count": 21,
   "id": "10222fe5",
   "metadata": {},
   "outputs": [
    {
     "data": {
      "text/plain": [
       "0.8"
      ]
     },
     "execution_count": 21,
     "metadata": {},
     "output_type": "execute_result"
    }
   ],
   "source": [
    "# By hand\n",
    "prec = tp / (tp + fp)\n",
    "prec"
   ]
  },
  {
   "cell_type": "code",
   "execution_count": 22,
   "id": "d3b028e0",
   "metadata": {},
   "outputs": [
    {
     "data": {
      "text/plain": [
       "0.8"
      ]
     },
     "execution_count": 22,
     "metadata": {},
     "output_type": "execute_result"
    }
   ],
   "source": [
    "# from sklearn\n",
    "precision = precision_score(y_test, preds)\n",
    "precision"
   ]
  },
  {
   "cell_type": "code",
   "execution_count": 23,
   "id": "d0ab5c57",
   "metadata": {
    "scrolled": false
   },
   "outputs": [
    {
     "data": {
      "image/png": "[encoded data removed]",
      "text/plain": [
       "<Figure size 360x360 with 2 Axes>"
      ]
     },
     "metadata": {
      "needs_background": "light"
     },
     "output_type": "display_data"
    }
   ],
   "source": [
    "plt.figure(figsize=(5,5))\n",
    "sns.heatmap(cm, annot=np.array(modified_cm),\n",
    "            fmt=\"\",\n",
    "            annot_kws={\"size\": 20},\n",
    "            linewidths=.5,\n",
    "            square = True,\n",
    "            cmap = 'Blues',\n",
    "            xticklabels = ['versicolor', 'viginica'],\n",
    "            yticklabels = ['versicolor', 'viginica'],\n",
    "            );\n",
    "\n",
    "plt.ylabel('Actual label', fontsize = 17);\n",
    "plt.xlabel('Predicted label', fontsize = 17);\n",
    "plt.title('Accuracy: {:.1f}'.format(score)+'\\n'\n",
    "          +'Precision: {:.1f}'.format(prec)+'\\n'\n",
    "          +'Recall: {:.1f}'.format(recall)+'\\n', size = 17);\n",
    "plt.tick_params(labelsize= 15)"
   ]
  },
  {
   "cell_type": "markdown",
   "id": "9f4ce0d9",
   "metadata": {},
   "source": [
    "## Receiver Operating Characteristic (ROC) Curve\n",
    "\n",
    "Plot the True Positive Rate vs. False Positive Rate for the range of possible decision thresholds and you get the ROC curve!"
   ]
  },
  {
   "cell_type": "code",
   "execution_count": 24,
   "id": "d330e2fd",
   "metadata": {
    "scrolled": true
   },
   "outputs": [
    {
     "data": {
      "text/plain": [
       "[<matplotlib.lines.Line2D at 0x26eb496b370>]"
      ]
     },
     "execution_count": 24,
     "metadata": {},
     "output_type": "execute_result"
    },
    {
     "data": {
      "image/png": "[encoded data removed]",
      "text/plain": [
       "<Figure size 432x288 with 1 Axes>"
      ]
     },
     "metadata": {
      "needs_background": "light"
     },
     "output_type": "display_data"
    }
   ],
   "source": [
    "roc_display = RocCurveDisplay.from_estimator(lr, X_test, y_test)\n",
    "plt.plot([0, 1], [0, 1], label='baseline', linestyle='--')"
   ]
  },
  {
   "cell_type": "code",
   "execution_count": 25,
   "id": "0f3970c2",
   "metadata": {
    "scrolled": true
   },
   "outputs": [
    {
     "data": {
      "text/plain": [
       "0.9711538461538463"
      ]
     },
     "execution_count": 25,
     "metadata": {},
     "output_type": "execute_result"
    }
   ],
   "source": [
    "roc_auc_score(y_test, lr.predict_proba(X_test)[:,1])"
   ]
  },
  {
   "cell_type": "markdown",
   "id": "129a6647",
   "metadata": {},
   "source": [
    "### Let's check out [this visualization](http://www.navan.name/roc/)"
   ]
  },
  {
   "cell_type": "markdown",
   "id": "a827dca6",
   "metadata": {},
   "source": [
    "### Interpreting ROC AUC\n",
    "- If you have an ROC AUC of 0.5, your positive and negative populations perfectly overlap and your model is as bad as it can get.\n",
    "- If you have an ROC AUC of 1, your positive and negative populations are perfectly separated and your model is as good as it can get.\n",
    "- The closer your ROC AUC is to 1, the better. (1 is the maximum score.)\n",
    "- If you have an ROC AUC of below 0.5, your positive and negative distributions have flipped sides. By flipping your predicted values (i.e. flipping predicted 1s and 0s), your ROC AUC will now be above 0.5.\n",
    "    - Example: You have an ROC AUC of 0.2. If you change your predicted 1s to 0s and your predicted 0s to 1s, your ROC AUC will now be 0.8!"
   ]
  },
  {
   "cell_type": "markdown",
   "id": "c5a2a2c7",
   "metadata": {},
   "source": [
    "We generate one ROC curve per model. The ROC curve is generated by varying our threshold from 0 to 1. This doesn't actually change the threshold or our original predictions, but it helps us to visualize our tradeoff between _sensitivity_ and _specificity_ and understand how well-separated our populations are."
   ]
  },
  {
   "cell_type": "markdown",
   "id": "db443592",
   "metadata": {},
   "source": [
    "### Let's check out [this visualization](http://www.navan.name/roc/)"
   ]
  },
  {
   "cell_type": "markdown",
   "id": "9fb7899b",
   "metadata": {},
   "source": [
    "### Changing your prediction threshold\n",
    "\n",
    "If you want, you could change your prediction threshold to a custom value."
   ]
  },
  {
   "cell_type": "code",
   "execution_count": 26,
   "id": "0ea2552d",
   "metadata": {},
   "outputs": [],
   "source": [
    "# Create a function to compare the prediction probabilities against the user-defined threshold\n",
    "# If predicted probability is lesser than user-defined threshold, then assign 0\n",
    "# If predicted probability is greater than user-defined threshold, then assign 1\n",
    "def get_predictions(probabilities, threshold):\n",
    "    return [0 if prob < threshold else 1 for prob in probabilities]"
   ]
  },
  {
   "cell_type": "code",
   "execution_count": 27,
   "id": "53a8f214",
   "metadata": {
    "scrolled": true
   },
   "outputs": [
    {
     "name": "stdout",
     "output_type": "stream",
     "text": [
      "[1, 1, 1, 1, 1, 1, 0, 1, 1, 1]\n"
     ]
    }
   ],
   "source": [
    "# Display predicted class for first 10 rows of X_Test based on custom threshold value of 0.3\n",
    "print(get_predictions(lr.predict_proba(X_test)[:,1], 0.3)[:10])"
   ]
  },
  {
   "cell_type": "code",
   "execution_count": 28,
   "id": "23d818ee",
   "metadata": {
    "scrolled": true
   },
   "outputs": [
    {
     "name": "stdout",
     "output_type": "stream",
     "text": [
      "Threshold: 0.25, Accuracy: 0.76\n",
      "Threshold: 0.4, Accuracy: 0.84\n",
      "Threshold: 0.5, Accuracy: 0.88\n",
      "Threshold: 0.6, Accuracy: 0.88\n",
      "Threshold: 0.75, Accuracy: 0.88\n"
     ]
    }
   ],
   "source": [
    "# Generate and compare model accuracy for various threshold values\n",
    "# Conclusion: Changing  default threshold value of 0.5 to other values does not improve accuracy\n",
    "threshold_list = [0.25, 0.4, 0.5, 0.6, 0.75]\n",
    "\n",
    "for threshold in threshold_list:\n",
    "    preds = get_predictions(lr.predict_proba(X_test)[:,1], threshold)\n",
    "    acc = accuracy_score(y_test, preds)\n",
    "    print(f'Threshold: {threshold}, Accuracy: {acc}')"
   ]
  },
  {
   "cell_type": "markdown",
   "id": "deec1304",
   "metadata": {},
   "source": [
    "## Interview Questions"
   ]
  },
  {
   "cell_type": "markdown",
   "id": "8ea17976",
   "metadata": {},
   "source": [
    "**1. What is the ROC curve?**\n",
    "    \n",
    "- The ROC curve is a plot of the True Positive Rate (sensitivity) vs. the False Positive Rate (1 - specificity) for all possible decision thresholds."
   ]
  },
  {
   "cell_type": "markdown",
   "id": "c19430fa",
   "metadata": {},
   "source": [
    "**2. Let's say you were building a search engine and wanted to build a classification model that would recommend articles based on the search input. What metric would you want to optimize for and why?**\n",
    "    \n",
    "- You could make a case for wanting to minimize false positives (stories that weren't relevant), in which case you'd want to optimize for precision.\n",
    "- You could make a case for wanting to minimize false negatives (not passing along possibly useful content), in which case you'd want to optimize for recall. \n",
    "- Alumni Comment: \"The interviewer seemed more interested in seeing if I knew what the metrics were and explaining what priorities would lead me to optimize for one over the other.\""
   ]
  },
  {
   "cell_type": "markdown",
   "id": "789b6199",
   "metadata": {},
   "source": [
    "More interview practice questions on these topics [here](https://kiwidamien.github.io/interview-practice-with-precision-and-recall.html)!"
   ]
  }
 ],
 "metadata": {
  "kernelspec": {
   "display_name": "Python 3",
   "language": "python",
   "name": "python3"
  },
  "language_info": {
   "codemirror_mode": {
    "name": "ipython",
    "version": 3
   },
   "file_extension": ".py",
   "mimetype": "text/x-python",
   "name": "python",
   "nbconvert_exporter": "python",
   "pygments_lexer": "ipython3",
   "version": "3.8.8"
  }
 },
 "nbformat": 4,
 "nbformat_minor": 5
}
